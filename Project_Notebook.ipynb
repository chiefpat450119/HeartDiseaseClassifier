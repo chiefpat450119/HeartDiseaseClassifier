{
 "cells": [
  {
   "cell_type": "markdown",
   "id": "fd6c6c15-1239-4a23-b869-00ebc0fbb205",
   "metadata": {},
   "source": [
    "# Classification-based prediction of heart disease diagnoses"
   ]
  },
  {
   "cell_type": "markdown",
   "id": "c20830b7-3aee-432c-bfa9-6b34012054e9",
   "metadata": {},
   "source": [
    "## Introduction:\n",
    "**Provide some relevant background information on the topic so that someone unfamiliar with it will be prepared to understand the rest of your proposal**\n",
    "\n",
    "**Clearly state the question you will try to answer with your project**\n",
    "\n",
    "**Identify and describe the dataset that will be used to answer the question**"
   ]
  },
  {
   "cell_type": "markdown",
   "id": "c2af22dc-da92-4800-a9af-440e2a879c65",
   "metadata": {},
   "source": [
    "## Exploratory data analysis"
   ]
  },
  {
   "cell_type": "code",
   "execution_count": 4,
   "id": "0ab5b6c2-cef7-4ac3-a004-1f150b79bb85",
   "metadata": {},
   "outputs": [],
   "source": [
    "# Run this cell before continuing\n",
    "library(tidyverse)\n",
    "library(repr)\n",
    "library(tidymodels)\n",
    "options(repr.matrix.max.rows = 6)"
   ]
  },
  {
   "cell_type": "code",
   "execution_count": null,
   "id": "96990eca-6c4a-4eb4-b82a-a22fad7a5b8f",
   "metadata": {},
   "outputs": [],
   "source": []
  }
 ],
 "metadata": {
  "kernelspec": {
   "display_name": "R",
   "language": "R",
   "name": "ir"
  },
  "language_info": {
   "codemirror_mode": "r",
   "file_extension": ".r",
   "mimetype": "text/x-r-source",
   "name": "R",
   "pygments_lexer": "r",
   "version": "4.3.1"
  }
 },
 "nbformat": 4,
 "nbformat_minor": 5
}
