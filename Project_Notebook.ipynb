{
 "cells": [
  {
   "cell_type": "markdown",
   "id": "94467e76",
   "metadata": {},
   "source": [
    "# Classification-based prediction of heart disease diagnoses"
   ]
  },
  {
   "cell_type": "markdown",
   "id": "258a927e",
   "metadata": {},
   "source": [
    "## Introduction\n",
    "Heart disease is a significant global health concern, contributing to a substantial number of deaths each year. To address this issue effectively, it's crucial to develop accurate diagnostic tools.  In this project, we will employ classification techniques to predict the diagnosis of heart disease based on a variety of patient attributes.\n",
    "\n",
    "**Research question:** Can we predict the diagnosis and severity of heart disease based on patient attributes such as age, resting blood pressure, cholesterol levels, and maximum heart rate achieved, while considering sex differences?\n",
    "\n",
    "The dataset we will utilize is the UCI Heart Disease dataset, which comprises multivariate numerical data on various attributes of patients. It consists of 14 key attributes, including age, sex, chest pain type, etc. For this project, we will focus on a subset of attributes: \n",
    "- age\n",
    "- resting blood pressure\n",
    "- serum cholesterol\n",
    "- maximum heart rate achieved\n",
    "\n",
    "to predict the diagnosis of heart disease. We will filter the dataset to include only records from the Cleveland study origin to ensure consistency and relevance. By the end of this project, we aim to develop accurate predictive models for diagnosing heart disease based on patient attributes."
   ]
  },
  {
   "cell_type": "markdown",
   "id": "4a343b91",
   "metadata": {},
   "source": [
    "## Exploratory data analysis"
   ]
  },
  {
   "cell_type": "code",
   "execution_count": 1,
   "id": "b71433b6",
   "metadata": {},
   "outputs": [
    {
     "name": "stderr",
     "output_type": "stream",
     "text": [
      "── \u001b[1mAttaching core tidyverse packages\u001b[22m ──────────────────────── tidyverse 2.0.0 ──\n",
      "\u001b[32m✔\u001b[39m \u001b[34mdplyr    \u001b[39m 1.1.3     \u001b[32m✔\u001b[39m \u001b[34mreadr    \u001b[39m 2.1.4\n",
      "\u001b[32m✔\u001b[39m \u001b[34mforcats  \u001b[39m 1.0.0     \u001b[32m✔\u001b[39m \u001b[34mstringr  \u001b[39m 1.5.0\n",
      "\u001b[32m✔\u001b[39m \u001b[34mggplot2  \u001b[39m 3.4.4     \u001b[32m✔\u001b[39m \u001b[34mtibble   \u001b[39m 3.2.1\n",
      "\u001b[32m✔\u001b[39m \u001b[34mlubridate\u001b[39m 1.9.3     \u001b[32m✔\u001b[39m \u001b[34mtidyr    \u001b[39m 1.3.0\n",
      "\u001b[32m✔\u001b[39m \u001b[34mpurrr    \u001b[39m 1.0.2     \n",
      "── \u001b[1mConflicts\u001b[22m ────────────────────────────────────────── tidyverse_conflicts() ──\n",
      "\u001b[31m✖\u001b[39m \u001b[34mdplyr\u001b[39m::\u001b[32mfilter()\u001b[39m masks \u001b[34mstats\u001b[39m::filter()\n",
      "\u001b[31m✖\u001b[39m \u001b[34mdplyr\u001b[39m::\u001b[32mlag()\u001b[39m    masks \u001b[34mstats\u001b[39m::lag()\n",
      "\u001b[36mℹ\u001b[39m Use the conflicted package (\u001b[3m\u001b[34m<http://conflicted.r-lib.org/>\u001b[39m\u001b[23m) to force all conflicts to become errors\n",
      "── \u001b[1mAttaching packages\u001b[22m ────────────────────────────────────── tidymodels 1.1.1 ──\n",
      "\n",
      "\u001b[32m✔\u001b[39m \u001b[34mbroom       \u001b[39m 1.0.5     \u001b[32m✔\u001b[39m \u001b[34mrsample     \u001b[39m 1.2.0\n",
      "\u001b[32m✔\u001b[39m \u001b[34mdials       \u001b[39m 1.2.0     \u001b[32m✔\u001b[39m \u001b[34mtune        \u001b[39m 1.1.2\n",
      "\u001b[32m✔\u001b[39m \u001b[34minfer       \u001b[39m 1.0.5     \u001b[32m✔\u001b[39m \u001b[34mworkflows   \u001b[39m 1.1.3\n",
      "\u001b[32m✔\u001b[39m \u001b[34mmodeldata   \u001b[39m 1.2.0     \u001b[32m✔\u001b[39m \u001b[34mworkflowsets\u001b[39m 1.0.1\n",
      "\u001b[32m✔\u001b[39m \u001b[34mparsnip     \u001b[39m 1.1.1     \u001b[32m✔\u001b[39m \u001b[34myardstick   \u001b[39m 1.2.0\n",
      "\u001b[32m✔\u001b[39m \u001b[34mrecipes     \u001b[39m 1.0.8     \n",
      "\n",
      "── \u001b[1mConflicts\u001b[22m ───────────────────────────────────────── tidymodels_conflicts() ──\n",
      "\u001b[31m✖\u001b[39m \u001b[34mscales\u001b[39m::\u001b[32mdiscard()\u001b[39m masks \u001b[34mpurrr\u001b[39m::discard()\n",
      "\u001b[31m✖\u001b[39m \u001b[34mdplyr\u001b[39m::\u001b[32mfilter()\u001b[39m   masks \u001b[34mstats\u001b[39m::filter()\n",
      "\u001b[31m✖\u001b[39m \u001b[34mrecipes\u001b[39m::\u001b[32mfixed()\u001b[39m  masks \u001b[34mstringr\u001b[39m::fixed()\n",
      "\u001b[31m✖\u001b[39m \u001b[34mdplyr\u001b[39m::\u001b[32mlag()\u001b[39m      masks \u001b[34mstats\u001b[39m::lag()\n",
      "\u001b[31m✖\u001b[39m \u001b[34myardstick\u001b[39m::\u001b[32mspec()\u001b[39m masks \u001b[34mreadr\u001b[39m::spec()\n",
      "\u001b[31m✖\u001b[39m \u001b[34mrecipes\u001b[39m::\u001b[32mstep()\u001b[39m   masks \u001b[34mstats\u001b[39m::step()\n",
      "\u001b[34m•\u001b[39m Search for functions across packages at \u001b[32mhttps://www.tidymodels.org/find/\u001b[39m\n",
      "\n"
     ]
    }
   ],
   "source": [
    "# Run this cell before continuing\n",
    "library(tidyverse)\n",
    "library(repr)\n",
    "library(tidymodels)\n",
    "options(repr.matrix.max.rows = 5)\n",
    "set.seed(69)"
   ]
  },
  {
   "cell_type": "code",
   "execution_count": 2,
   "id": "6737bdcf",
   "metadata": {},
   "outputs": [
    {
     "name": "stderr",
     "output_type": "stream",
     "text": [
      "\u001b[1mRows: \u001b[22m\u001b[34m920\u001b[39m \u001b[1mColumns: \u001b[22m\u001b[34m16\u001b[39m\n",
      "\u001b[36m──\u001b[39m \u001b[1mColumn specification\u001b[22m \u001b[36m────────────────────────────────────────────────────────\u001b[39m\n",
      "\u001b[1mDelimiter:\u001b[22m \",\"\n",
      "\u001b[31mchr\u001b[39m (6): sex, dataset, cp, restecg, slope, thal\n",
      "\u001b[32mdbl\u001b[39m (8): id, age, trestbps, chol, thalch, oldpeak, ca, num\n",
      "\u001b[33mlgl\u001b[39m (2): fbs, exang\n",
      "\n",
      "\u001b[36mℹ\u001b[39m Use `spec()` to retrieve the full column specification for this data.\n",
      "\u001b[36mℹ\u001b[39m Specify the column types or set `show_col_types = FALSE` to quiet this message.\n"
     ]
    }
   ],
   "source": [
    "heart <- read_csv(\"data/heart_disease_uci.csv\")"
   ]
  },
  {
   "cell_type": "markdown",
   "id": "623212e2",
   "metadata": {},
   "source": [
    "We then filter the data to look at **only one location (Cleveland)** to reduce the effect of possible confounding variables introduced by the local environment."
   ]
  },
  {
   "cell_type": "code",
   "execution_count": 3,
   "id": "c9270af3",
   "metadata": {},
   "outputs": [],
   "source": [
    "cleveland_heart <- heart |>\n",
    "filter(dataset == \"Cleveland\")"
   ]
  },
  {
   "cell_type": "markdown",
   "id": "91259841",
   "metadata": {},
   "source": [
    "In order to use classification, we need to change the predicted variable (num) to a factor with more understandable levels. From the information presented in the dataset, num = 0 represents absence of disease, while num = 1, 2, 3, 4 represent stages of heart disease. The refactoring will be done based on the following interpretation:\n",
    "- 0 = \"none\"\n",
    "- 1 = \"mild\"\n",
    "- 2 = \"moderate\"\n",
    "- 3 = \"severe\"\n",
    "- 4 = \"critical\""
   ]
  },
  {
   "cell_type": "code",
   "execution_count": 4,
   "id": "7aaaa562",
   "metadata": {},
   "outputs": [
    {
     "data": {
      "text/html": [
       "<table class=\"dataframe\">\n",
       "<caption>A tibble: 304 × 17</caption>\n",
       "<thead>\n",
       "\t<tr><th scope=col>id</th><th scope=col>age</th><th scope=col>sex</th><th scope=col>dataset</th><th scope=col>cp</th><th scope=col>trestbps</th><th scope=col>chol</th><th scope=col>fbs</th><th scope=col>restecg</th><th scope=col>thalch</th><th scope=col>exang</th><th scope=col>oldpeak</th><th scope=col>slope</th><th scope=col>ca</th><th scope=col>thal</th><th scope=col>num</th><th scope=col>disease</th></tr>\n",
       "\t<tr><th scope=col>&lt;dbl&gt;</th><th scope=col>&lt;dbl&gt;</th><th scope=col>&lt;chr&gt;</th><th scope=col>&lt;chr&gt;</th><th scope=col>&lt;chr&gt;</th><th scope=col>&lt;dbl&gt;</th><th scope=col>&lt;dbl&gt;</th><th scope=col>&lt;lgl&gt;</th><th scope=col>&lt;chr&gt;</th><th scope=col>&lt;dbl&gt;</th><th scope=col>&lt;lgl&gt;</th><th scope=col>&lt;dbl&gt;</th><th scope=col>&lt;chr&gt;</th><th scope=col>&lt;dbl&gt;</th><th scope=col>&lt;chr&gt;</th><th scope=col>&lt;dbl&gt;</th><th scope=col>&lt;fct&gt;</th></tr>\n",
       "</thead>\n",
       "<tbody>\n",
       "\t<tr><td>1</td><td>63</td><td>Male</td><td>Cleveland</td><td>typical angina</td><td>145</td><td>233</td><td> TRUE</td><td>lv hypertrophy</td><td>150</td><td>FALSE</td><td>2.3</td><td>downsloping</td><td>0</td><td>fixed defect     </td><td>0</td><td>none    </td></tr>\n",
       "\t<tr><td>2</td><td>67</td><td>Male</td><td>Cleveland</td><td>asymptomatic  </td><td>160</td><td>286</td><td>FALSE</td><td>lv hypertrophy</td><td>108</td><td> TRUE</td><td>1.5</td><td>flat       </td><td>3</td><td>normal           </td><td>2</td><td>moderate</td></tr>\n",
       "\t<tr><td>3</td><td>67</td><td>Male</td><td>Cleveland</td><td>asymptomatic  </td><td>120</td><td>229</td><td>FALSE</td><td>lv hypertrophy</td><td>129</td><td> TRUE</td><td>2.6</td><td>flat       </td><td>2</td><td>reversable defect</td><td>1</td><td>mild    </td></tr>\n",
       "\t<tr><td>⋮</td><td>⋮</td><td>⋮</td><td>⋮</td><td>⋮</td><td>⋮</td><td>⋮</td><td>⋮</td><td>⋮</td><td>⋮</td><td>⋮</td><td>⋮</td><td>⋮</td><td>⋮</td><td>⋮</td><td>⋮</td><td>⋮</td></tr>\n",
       "\t<tr><td>303</td><td>38</td><td>Male</td><td>Cleveland</td><td>non-anginal    </td><td>138</td><td>175</td><td>FALSE</td><td>normal        </td><td>173</td><td>FALSE</td><td>0</td><td>upsloping</td><td>NA</td><td>normal</td><td>0</td><td>none</td></tr>\n",
       "\t<tr><td>304</td><td>28</td><td>Male</td><td>Cleveland</td><td>atypical angina</td><td>130</td><td>132</td><td>FALSE</td><td>lv hypertrophy</td><td>185</td><td>FALSE</td><td>0</td><td>NA       </td><td>NA</td><td>NA    </td><td>0</td><td>none</td></tr>\n",
       "</tbody>\n",
       "</table>\n"
      ],
      "text/latex": [
       "A tibble: 304 × 17\n",
       "\\begin{tabular}{lllllllllllllllll}\n",
       " id & age & sex & dataset & cp & trestbps & chol & fbs & restecg & thalch & exang & oldpeak & slope & ca & thal & num & disease\\\\\n",
       " <dbl> & <dbl> & <chr> & <chr> & <chr> & <dbl> & <dbl> & <lgl> & <chr> & <dbl> & <lgl> & <dbl> & <chr> & <dbl> & <chr> & <dbl> & <fct>\\\\\n",
       "\\hline\n",
       "\t 1 & 63 & Male & Cleveland & typical angina & 145 & 233 &  TRUE & lv hypertrophy & 150 & FALSE & 2.3 & downsloping & 0 & fixed defect      & 0 & none    \\\\\n",
       "\t 2 & 67 & Male & Cleveland & asymptomatic   & 160 & 286 & FALSE & lv hypertrophy & 108 &  TRUE & 1.5 & flat        & 3 & normal            & 2 & moderate\\\\\n",
       "\t 3 & 67 & Male & Cleveland & asymptomatic   & 120 & 229 & FALSE & lv hypertrophy & 129 &  TRUE & 2.6 & flat        & 2 & reversable defect & 1 & mild    \\\\\n",
       "\t ⋮ & ⋮ & ⋮ & ⋮ & ⋮ & ⋮ & ⋮ & ⋮ & ⋮ & ⋮ & ⋮ & ⋮ & ⋮ & ⋮ & ⋮ & ⋮ & ⋮\\\\\n",
       "\t 303 & 38 & Male & Cleveland & non-anginal     & 138 & 175 & FALSE & normal         & 173 & FALSE & 0 & upsloping & NA & normal & 0 & none\\\\\n",
       "\t 304 & 28 & Male & Cleveland & atypical angina & 130 & 132 & FALSE & lv hypertrophy & 185 & FALSE & 0 & NA        & NA & NA     & 0 & none\\\\\n",
       "\\end{tabular}\n"
      ],
      "text/markdown": [
       "\n",
       "A tibble: 304 × 17\n",
       "\n",
       "| id &lt;dbl&gt; | age &lt;dbl&gt; | sex &lt;chr&gt; | dataset &lt;chr&gt; | cp &lt;chr&gt; | trestbps &lt;dbl&gt; | chol &lt;dbl&gt; | fbs &lt;lgl&gt; | restecg &lt;chr&gt; | thalch &lt;dbl&gt; | exang &lt;lgl&gt; | oldpeak &lt;dbl&gt; | slope &lt;chr&gt; | ca &lt;dbl&gt; | thal &lt;chr&gt; | num &lt;dbl&gt; | disease &lt;fct&gt; |\n",
       "|---|---|---|---|---|---|---|---|---|---|---|---|---|---|---|---|---|\n",
       "| 1 | 63 | Male | Cleveland | typical angina | 145 | 233 |  TRUE | lv hypertrophy | 150 | FALSE | 2.3 | downsloping | 0 | fixed defect      | 0 | none     |\n",
       "| 2 | 67 | Male | Cleveland | asymptomatic   | 160 | 286 | FALSE | lv hypertrophy | 108 |  TRUE | 1.5 | flat        | 3 | normal            | 2 | moderate |\n",
       "| 3 | 67 | Male | Cleveland | asymptomatic   | 120 | 229 | FALSE | lv hypertrophy | 129 |  TRUE | 2.6 | flat        | 2 | reversable defect | 1 | mild     |\n",
       "| ⋮ | ⋮ | ⋮ | ⋮ | ⋮ | ⋮ | ⋮ | ⋮ | ⋮ | ⋮ | ⋮ | ⋮ | ⋮ | ⋮ | ⋮ | ⋮ | ⋮ |\n",
       "| 303 | 38 | Male | Cleveland | non-anginal     | 138 | 175 | FALSE | normal         | 173 | FALSE | 0 | upsloping | NA | normal | 0 | none |\n",
       "| 304 | 28 | Male | Cleveland | atypical angina | 130 | 132 | FALSE | lv hypertrophy | 185 | FALSE | 0 | NA        | NA | NA     | 0 | none |\n",
       "\n"
      ],
      "text/plain": [
       "    id  age sex  dataset   cp              trestbps chol fbs   restecg       \n",
       "1   1   63  Male Cleveland typical angina  145      233   TRUE lv hypertrophy\n",
       "2   2   67  Male Cleveland asymptomatic    160      286  FALSE lv hypertrophy\n",
       "3   3   67  Male Cleveland asymptomatic    120      229  FALSE lv hypertrophy\n",
       "⋮   ⋮   ⋮   ⋮    ⋮         ⋮               ⋮        ⋮    ⋮     ⋮             \n",
       "303 303 38  Male Cleveland non-anginal     138      175  FALSE normal        \n",
       "304 304 28  Male Cleveland atypical angina 130      132  FALSE lv hypertrophy\n",
       "    thalch exang oldpeak slope       ca thal              num disease \n",
       "1   150    FALSE 2.3     downsloping 0  fixed defect      0   none    \n",
       "2   108     TRUE 1.5     flat        3  normal            2   moderate\n",
       "3   129     TRUE 2.6     flat        2  reversable defect 1   mild    \n",
       "⋮   ⋮      ⋮     ⋮       ⋮           ⋮  ⋮                 ⋮   ⋮       \n",
       "303 173    FALSE 0       upsloping   NA normal            0   none    \n",
       "304 185    FALSE 0       NA          NA NA                0   none    "
      ]
     },
     "metadata": {},
     "output_type": "display_data"
    }
   ],
   "source": [
    "heart_refactored <- cleveland_heart |>\n",
    "mutate(disease = as_factor(num)) |>\n",
    "mutate(disease = fct_recode(disease, \"none\" = \"0\", \"mild\" = \"1\", \"moderate\" = \"2\", \"severe\" = \"3\", \"critical\" = \"4\"))\n",
    "heart_refactored"
   ]
  },
  {
   "cell_type": "markdown",
   "id": "e3e6f9fe",
   "metadata": {},
   "source": [
    "We then split the data into a training and a testing set, making sure there are equal ratios of each disease classification in both sets. Let's take a look at how many cases are in each disease class, and then break it down by sex."
   ]
  },
  {
   "cell_type": "code",
   "execution_count": 5,
   "id": "1ecfa821",
   "metadata": {},
   "outputs": [],
   "source": [
    "heart_split <- initial_split(heart_refactored, prop = 0.75, strata = disease)  \n",
    "heart_train <- training(heart_split)   \n",
    "heart_test <- testing(heart_split)"
   ]
  },
  {
   "cell_type": "code",
   "execution_count": 6,
   "id": "afd96d95",
   "metadata": {},
   "outputs": [
    {
     "data": {
      "text/html": [
       "<table class=\"dataframe\">\n",
       "<caption>A tibble: 5 × 2</caption>\n",
       "<thead>\n",
       "\t<tr><th scope=col>disease</th><th scope=col>count</th></tr>\n",
       "\t<tr><th scope=col>&lt;fct&gt;</th><th scope=col>&lt;int&gt;</th></tr>\n",
       "</thead>\n",
       "<tbody>\n",
       "\t<tr><td>none    </td><td>124</td></tr>\n",
       "\t<tr><td>mild    </td><td> 41</td></tr>\n",
       "\t<tr><td>moderate</td><td> 26</td></tr>\n",
       "\t<tr><td>severe  </td><td> 27</td></tr>\n",
       "\t<tr><td>critical</td><td>  8</td></tr>\n",
       "</tbody>\n",
       "</table>\n"
      ],
      "text/latex": [
       "A tibble: 5 × 2\n",
       "\\begin{tabular}{ll}\n",
       " disease & count\\\\\n",
       " <fct> & <int>\\\\\n",
       "\\hline\n",
       "\t none     & 124\\\\\n",
       "\t mild     &  41\\\\\n",
       "\t moderate &  26\\\\\n",
       "\t severe   &  27\\\\\n",
       "\t critical &   8\\\\\n",
       "\\end{tabular}\n"
      ],
      "text/markdown": [
       "\n",
       "A tibble: 5 × 2\n",
       "\n",
       "| disease &lt;fct&gt; | count &lt;int&gt; |\n",
       "|---|---|\n",
       "| none     | 124 |\n",
       "| mild     |  41 |\n",
       "| moderate |  26 |\n",
       "| severe   |  27 |\n",
       "| critical |   8 |\n",
       "\n"
      ],
      "text/plain": [
       "  disease  count\n",
       "1 none     124  \n",
       "2 mild      41  \n",
       "3 moderate  26  \n",
       "4 severe    27  \n",
       "5 critical   8  "
      ]
     },
     "metadata": {},
     "output_type": "display_data"
    }
   ],
   "source": [
    "heart_train_summary <- heart_train |>\n",
    "group_by(disease) |>\n",
    "summarize(count = n())\n",
    "heart_train_summary"
   ]
  },
  {
   "cell_type": "code",
   "execution_count": 7,
   "id": "adbe9da0",
   "metadata": {},
   "outputs": [
    {
     "name": "stderr",
     "output_type": "stream",
     "text": [
      "\u001b[1m\u001b[22m`summarise()` has grouped output by 'disease'. You can override using the\n",
      "`.groups` argument.\n"
     ]
    },
    {
     "data": {
      "text/html": [
       "<table class=\"dataframe\">\n",
       "<caption>A grouped_df: 10 × 3</caption>\n",
       "<thead>\n",
       "\t<tr><th scope=col>disease</th><th scope=col>sex</th><th scope=col>count</th></tr>\n",
       "\t<tr><th scope=col>&lt;fct&gt;</th><th scope=col>&lt;chr&gt;</th><th scope=col>&lt;int&gt;</th></tr>\n",
       "</thead>\n",
       "<tbody>\n",
       "\t<tr><td>none    </td><td>Female</td><td>52</td></tr>\n",
       "\t<tr><td>none    </td><td>Male  </td><td>72</td></tr>\n",
       "\t<tr><td>mild    </td><td>Female</td><td> 7</td></tr>\n",
       "\t<tr><td>mild    </td><td>Male  </td><td>34</td></tr>\n",
       "\t<tr><td>moderate</td><td>Female</td><td> 5</td></tr>\n",
       "\t<tr><td>moderate</td><td>Male  </td><td>21</td></tr>\n",
       "\t<tr><td>severe  </td><td>Female</td><td> 7</td></tr>\n",
       "\t<tr><td>severe  </td><td>Male  </td><td>20</td></tr>\n",
       "\t<tr><td>critical</td><td>Female</td><td> 1</td></tr>\n",
       "\t<tr><td>critical</td><td>Male  </td><td> 7</td></tr>\n",
       "</tbody>\n",
       "</table>\n"
      ],
      "text/latex": [
       "A grouped\\_df: 10 × 3\n",
       "\\begin{tabular}{lll}\n",
       " disease & sex & count\\\\\n",
       " <fct> & <chr> & <int>\\\\\n",
       "\\hline\n",
       "\t none     & Female & 52\\\\\n",
       "\t none     & Male   & 72\\\\\n",
       "\t mild     & Female &  7\\\\\n",
       "\t mild     & Male   & 34\\\\\n",
       "\t moderate & Female &  5\\\\\n",
       "\t moderate & Male   & 21\\\\\n",
       "\t severe   & Female &  7\\\\\n",
       "\t severe   & Male   & 20\\\\\n",
       "\t critical & Female &  1\\\\\n",
       "\t critical & Male   &  7\\\\\n",
       "\\end{tabular}\n"
      ],
      "text/markdown": [
       "\n",
       "A grouped_df: 10 × 3\n",
       "\n",
       "| disease &lt;fct&gt; | sex &lt;chr&gt; | count &lt;int&gt; |\n",
       "|---|---|---|\n",
       "| none     | Female | 52 |\n",
       "| none     | Male   | 72 |\n",
       "| mild     | Female |  7 |\n",
       "| mild     | Male   | 34 |\n",
       "| moderate | Female |  5 |\n",
       "| moderate | Male   | 21 |\n",
       "| severe   | Female |  7 |\n",
       "| severe   | Male   | 20 |\n",
       "| critical | Female |  1 |\n",
       "| critical | Male   |  7 |\n",
       "\n"
      ],
      "text/plain": [
       "   disease  sex    count\n",
       "1  none     Female 52   \n",
       "2  none     Male   72   \n",
       "3  mild     Female  7   \n",
       "4  mild     Male   34   \n",
       "5  moderate Female  5   \n",
       "6  moderate Male   21   \n",
       "7  severe   Female  7   \n",
       "8  severe   Male   20   \n",
       "9  critical Female  1   \n",
       "10 critical Male    7   "
      ]
     },
     "metadata": {},
     "output_type": "display_data"
    }
   ],
   "source": [
    "options(repr.matrix.max.rows = 10)\n",
    "heart_train_split <- heart_train |>\n",
    "group_by(disease, sex) |>\n",
    "summarize(count = n())\n",
    "heart_train_split"
   ]
  },
  {
   "cell_type": "markdown",
   "id": "4b18c2aa",
   "metadata": {},
   "source": [
    "There is a difference in the distribution of cases between male and female patients. There is a significantly greater proportion of patients in the disease classes for male patients. This will need to be kept in mind for our analysis. Let's look at how our predictor variables correlate with heart disease."
   ]
  },
  {
   "cell_type": "markdown",
   "id": "b1de947c",
   "metadata": {},
   "source": [
    "# Methods\n",
    "To conduct the data analysis for predicting the diagnosis of heart disease based on age, trestbps (resting blood pressure), cholesterol, and maximum heart rate achieved.\n",
    "\n",
    "We chose the four predictors of age, trestbps, cholesterol, and maximum heart rate achieved out of the 16 columns, as they are the most effective at helping predict diagnoses. Furthermore, after removing the columns that contain class variables (fbs, restecg, exangslope, thal, num) and columns that contain large quantities of missing data (oldpeak, thalch, ca), we are left with these four variables.\n",
    "\n",
    "Furthermore, we chose to split the male and female data as the observations for each differ greatly and it would not make sense to use both together to predict due to the variation. We also filtered for the Cleveland region as there might be confounding variables (external factors) that vary the data between regions, so focusing on one region will produce the best results.\n",
    "\n",
    "To analyze this dataset, we need to preprocess the data, split the training and testing sets, the create a visualization to effectively communicate our findings\n",
    "\n",
    "For data Preprocessing, we need to filter for the Cleveland area only, select the predictors we want to use, and deal with any N/A in the dataset. We then need to split the dataset into training and testing sets by choosing whether to use classification or regression, training models on the training set and evaluate their performance, using appropriate metrics like accuracy, precision, and recall, and summarizing the results for the male and female categories. Lastly, we need to visualize the results we find by creating a histogram plot for the male and female summaries we found and showcasing the trends"
   ]
  },
  {
   "cell_type": "markdown",
   "id": "85623a8f",
   "metadata": {},
   "source": [
    "## Expected outcomes and significance\n",
    "Based on the outlined methods, we expect to find predictive models capable of accurately diagnosing heart disease based on patient attributes like age, blood pressure, cholesterol, and maximum heart rate achieved. Such findings could lead to improved early detection and treatment, potentially reducing the burden of heart disease globally. Future questions may explore the effectiveness of these models across different demographics, as well as their integration into clinical practice for better patient outcomes."
   ]
  },
  {
   "cell_type": "code",
   "execution_count": null,
   "id": "8c6caaeb",
   "metadata": {},
   "outputs": [],
   "source": []
  }
 ],
 "metadata": {
  "kernelspec": {
   "display_name": "R",
   "language": "R",
   "name": "ir"
  },
  "language_info": {
   "codemirror_mode": "r",
   "file_extension": ".r",
   "mimetype": "text/x-r-source",
   "name": "R",
   "pygments_lexer": "r",
   "version": "4.3.1"
  }
 },
 "nbformat": 4,
 "nbformat_minor": 5
}
