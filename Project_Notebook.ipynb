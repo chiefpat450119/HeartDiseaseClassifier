{
 "cells": [
  {
   "cell_type": "markdown",
   "id": "fd6c6c15-1239-4a23-b869-00ebc0fbb205",
   "metadata": {},
   "source": [
    "# Classification-based prediction of heart disease diagnoses"
   ]
  },
  {
   "cell_type": "markdown",
   "id": "c20830b7-3aee-432c-bfa9-6b34012054e9",
   "metadata": {},
   "source": [
    "## Introduction:\n",
    "**Provide some relevant background information on the topic so that someone unfamiliar with it will be prepared to understand the rest of your proposal**\n",
    "\n",
    "**Clearly state the question you will try to answer with your project**\n",
    "\n",
    "**Identify and describe the dataset that will be used to answer the question**"
   ]
  },
  {
   "cell_type": "markdown",
   "id": "c2af22dc-da92-4800-a9af-440e2a879c65",
   "metadata": {},
   "source": [
    "## Exploratory data analysis"
   ]
  },
  {
   "cell_type": "code",
   "execution_count": null,
   "id": "0ab5b6c2-cef7-4ac3-a004-1f150b79bb85",
   "metadata": {},
   "outputs": [],
   "source": [
    "library(tidyverse)\n",
    "library(tidymodels)"
   ]
  }
 ],
 "metadata": {
  "kernelspec": {
   "display_name": "Python 3 (ipykernel)",
   "language": "python",
   "name": "python3"
  },
  "language_info": {
   "codemirror_mode": {
    "name": "ipython",
    "version": 3
   },
   "file_extension": ".py",
   "mimetype": "text/x-python",
   "name": "python",
   "nbconvert_exporter": "python",
   "pygments_lexer": "ipython3",
   "version": "3.11.6"
  }
 },
 "nbformat": 4,
 "nbformat_minor": 5
}
