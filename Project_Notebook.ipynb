{
 "cells": [
  {
   "cell_type": "markdown",
   "id": "0c5996ff",
   "metadata": {},
   "source": [
    "# KNN Classification-based Prediction of Heart Disease Diagnoses"
   ]
  },
  {
   "cell_type": "markdown",
   "id": "f4f27c71",
   "metadata": {},
   "source": [
    "## Introduction\n",
    "Heart disease is a significant global health concern; it is the *leading cause of death globally*. To address this issue effectively, it is vital to develop accurate diagnostic tools. Fortunately, there are many patient attributes that could serve as indicators or possible warning signs for heart disease, which could accelerate the process of diagnosis and treatment. In this project, we will employ classification techniques to predict the diagnosis of heart disease based on a few of these attributes.\n",
    "\n",
    "**Research question:** Will a patient be diagnosed with heart disease, given their age, resting blood pressure, cholesterol levels, and maximum heart rate achieved, while considering sex differences?\n",
    "\n",
    "The dataset we will use to answer this question is the UCI Heart Disease dataset, which comprises multivariate numerical and categorical data on 14 patient attributes. These include age, sex, chest pain type, etc. along with the patient's diagnosis. For this project, we will focus on a subset of attributes: \n",
    "- age\n",
    "- resting blood pressure\n",
    "- serum cholesterol\n",
    "- maximum heart rate achieved\n",
    "\n",
    "to predict the diagnosis of heart disease. We will filter the dataset to include only records from the Cleveland location to ensure consistency and relevance. By the end of this project, we aim to develop accurate predictive models for diagnosing heart disease based on patient attributes."
   ]
  },
  {
   "cell_type": "markdown",
   "id": "9f5e9107",
   "metadata": {},
   "source": [
    "## Exploratory data analysis"
   ]
  },
  {
   "cell_type": "code",
   "execution_count": null,
   "id": "2e91e844",
   "metadata": {},
   "outputs": [],
   "source": [
    "# Run this cell before continuing\n",
    "library(tidyverse)\n",
    "library(repr)\n",
    "library(tidymodels)\n",
    "library(RColorBrewer)\n",
    "options(repr.matrix.max.rows = 5)"
   ]
  },
  {
   "cell_type": "code",
   "execution_count": null,
   "id": "a3fc200d",
   "metadata": {},
   "outputs": [],
   "source": [
    "heart <- read_csv(\"https://raw.githubusercontent.com/chiefpat450119/dsci-project/main/data/heart_disease_uci.csv\")"
   ]
  },
  {
   "cell_type": "markdown",
   "id": "0fd3648a",
   "metadata": {},
   "source": [
    "We then filter the data to look at **only one location (Cleveland)** to reduce the effect of possible confounding variables introduced by the local environment."
   ]
  },
  {
   "cell_type": "code",
   "execution_count": null,
   "id": "defa490a",
   "metadata": {},
   "outputs": [],
   "source": [
    "cleveland_heart <- heart |>\n",
    "filter(dataset == \"Cleveland\")"
   ]
  },
  {
   "cell_type": "markdown",
   "id": "09829706",
   "metadata": {},
   "source": [
    "In order to use classification, we need to change the predicted variable (num) to a *factor* with more understandable levels. From the information presented in the dataset, num = 0 represents absence of disease, while num = 1, 2, 3, 4 represent stages of heart disease. The refactoring will be done based on the following interpretation:\n",
    "- 0 = \"absent\"\n",
    "- 1 = \"mild\"\n",
    "- 2 = \"moderate\"\n",
    "- 3 = \"severe\"\n",
    "- 4 = \"critical\""
   ]
  },
  {
   "cell_type": "code",
   "execution_count": null,
   "id": "0da082a5",
   "metadata": {},
   "outputs": [],
   "source": [
    "heart_refactored <- cleveland_heart |>\n",
    "mutate(disease = as_factor(num)) |>\n",
    "mutate(disease = fct_recode(disease, \"absent\" = \"0\", \"mild\" = \"1\", \"moderate\" = \"2\", \"severe\" = \"3\", \"critical\" = \"4\"))\n",
    "heart_refactored"
   ]
  },
  {
   "cell_type": "markdown",
   "id": "f8d1dde3",
   "metadata": {},
   "source": [
    "<p style=\"text-align:center;\"><strong>TABLE 1- Transformed Cleveland Heart Disease Dataset: 'Disease' severity recoded into categorical levels for easier interpretation</strong></p>\n"
   ]
  },
  {
   "cell_type": "markdown",
   "id": "b65bd4a1",
   "metadata": {},
   "source": [
    "The data is already in a tidy format. We now split the data into a training and a testing set, making sure there are equal ratios of each disease classification in both sets. Let's take a look at how many cases are in each disease class, and then break it down by sex."
   ]
  },
  {
   "cell_type": "code",
   "execution_count": null,
   "id": "c79062de",
   "metadata": {},
   "outputs": [],
   "source": [
    "set.seed(23)\n",
    "heart_split <- initial_split(heart_refactored, prop = 0.75, strata = disease)  \n",
    "heart_train <- training(heart_split)   \n",
    "heart_test <- testing(heart_split)"
   ]
  },
  {
   "cell_type": "code",
   "execution_count": null,
   "id": "83dbec43",
   "metadata": {},
   "outputs": [],
   "source": [
    "heart_train_summary <- heart_train |>\n",
    "group_by(disease) |>\n",
    "summarize(count = n())\n",
    "heart_train_summary"
   ]
  },
  {
   "cell_type": "markdown",
   "id": "c4adaa98",
   "metadata": {},
   "source": [
    "<p style=\"text-align:center;\"><strong>TABLE 2- Heart Disease Severity Summary: Distribution of heart disease cases across severity levels in the training dataset</strong></p>\n"
   ]
  },
  {
   "cell_type": "code",
   "execution_count": null,
   "id": "bb11178b",
   "metadata": {},
   "outputs": [],
   "source": [
    "options(repr.matrix.max.rows = 10)\n",
    "heart_train_split <- heart_train |>\n",
    "group_by(disease, sex) |>\n",
    "summarize(count = n())\n",
    "heart_train_split"
   ]
  },
  {
   "cell_type": "markdown",
   "id": "53cb9ad1",
   "metadata": {},
   "source": [
    "<p style=\"text-align:center;\"><strong>TABLE 3- Heart Disease Distribution by Severity and Gender: Summary of heart disease cases categorized by severity levels and gender from the training dataset </strong></p>\n"
   ]
  },
  {
   "cell_type": "markdown",
   "id": "fae39d9f",
   "metadata": {},
   "source": [
    "There is a difference in the distribution of cases between male and female patients. There is a **significantly greater proportion** of patients in the disease classes for male patients. This will need to be kept in mind for our analysis. \n",
    "\n",
    "Some disease classes have **very few observations,** especially for female patients, which creates a large **class imbalance**, where the class with no disease is far larger than the others. This will make it hard to train a useful classification model, since it might just end up predicting the most common class every time. We can correct this imbalance this by **combine all the disease classes into one**:"
   ]
  },
  {
   "cell_type": "code",
   "execution_count": null,
   "id": "86556989",
   "metadata": {},
   "outputs": [],
   "source": [
    "options(repr.matrix.max.rows = 5)\n",
    "heart_train <- mutate(heart_train, disease = as_factor(case_when(disease == \"absent\" ~ \"absent\", TRUE ~ \"present\")))\n",
    "heart_test <- mutate(heart_test, disease = as_factor(case_when(disease == \"absent\" ~ \"absent\", TRUE ~ \"present\")))\n",
    "heart_train"
   ]
  },
  {
   "cell_type": "markdown",
   "id": "a674870e",
   "metadata": {},
   "source": [
    "<p style=\"text-align:center;\"><strong>TABLE 4- Modified Heart Disease Training Dataset: Updated dataset where the 'disease' column has been recategorized as 'absent' or 'present' for ease of interpretation</strong></p>\n"
   ]
  },
  {
   "cell_type": "markdown",
   "id": "0615e31a",
   "metadata": {},
   "source": [
    "Let's see how many missing values there are for each predictor."
   ]
  },
  {
   "cell_type": "code",
   "execution_count": null,
   "id": "927f6a7e",
   "metadata": {},
   "outputs": [],
   "source": [
    "missing <- enframe(colSums(is.na(heart_train))) |>\n",
    "pivot_wider(names_from = \"name\", values_from = \"value\")\n",
    "missing"
   ]
  },
  {
   "cell_type": "markdown",
   "id": "a9f0fe47",
   "metadata": {},
   "source": [
    "<p style=\"text-align:center;\"><strong>TABLE 5- Missing Data Summary: Distribution of missing values across columns in the heart_train dataset</strong></p>\n"
   ]
  },
  {
   "cell_type": "markdown",
   "id": "e9fdb1cf",
   "metadata": {},
   "source": [
    "### Selected predictors\n",
    "- Age\n",
    "- Resting blood pressure (trestbps)\n",
    "- Serum cholesterol (chol)\n",
    "- Maximum heart rate achieved (thalch)"
   ]
  },
  {
   "cell_type": "code",
   "execution_count": null,
   "id": "43404340",
   "metadata": {
    "editable": true,
    "slideshow": {
     "slide_type": ""
    },
    "tags": []
   },
   "outputs": [],
   "source": [
    "# Let's look at how two of predictor variables correlate with heart disease.\n",
    "options(repr.plot.width = 8, repr.plot.height = 6)\n",
    "heart_age_bp_plot <- heart_train |>\n",
    "  ggplot(aes(x = age, y = trestbps, color = disease)) +\n",
    "  geom_point(alpha = 0.6) + \n",
    "  labs(x = \"Age (years)\", y = \"Resting Blood Pressure (mmHg)\", color = \"Disease Diagnosis\") +\n",
    "  ggtitle(\"Figure 1: Disease diagnosis based on Resting Blood Pressure & Age\") +\n",
    "  theme(\n",
    "    plot.title = element_text(size = 16),  # Adjust title size\n",
    "    axis.title = element_text(size = 14),  # Adjust axis label size\n",
    "    legend.title = element_text(size = 14) # Adjust legend title size\n",
    "  ) +\n",
    "  facet_grid(cols = (vars(sex)))\n",
    "\n",
    "heart_age_bp_plot"
   ]
  },
  {
   "cell_type": "markdown",
   "id": "81ee631b-dc9e-4483-afa5-43e2df531948",
   "metadata": {},
   "source": [
    "Figure 1 depicts the relationship between Resting Blood Pressure in mmHg and Age in years for both males and females. It shows that there is little to no correlation between the two variables and that the relationship is nonlinear. The data points are closely clustered together and appear more like a cloud than a distinct line or curve, indicating that there is no strong relationship between the two variables. It is interesting to note that for females, higher age is more likely to have higher resting blood pressure, although this relationship is not as strong as expected. This trend is somewhat true for males as well, although it is not as pronounced. Additionally, it can be observed that there are fewer data points for females compared to males, which may suggest a smaller sample size for the female population. "
   ]
  },
  {
   "cell_type": "code",
   "execution_count": null,
   "id": "8e0f9e7e",
   "metadata": {},
   "outputs": [],
   "source": [
    "# Now the other two predictor variables\n",
    "options(repr.plot.width = 8, repr.plot.height = 6)\n",
    "heart_chol_hr_plot <- ggplot(heart_train, aes(x = chol, y = thalch, color = disease)) + \n",
    "  geom_point(alpha = 0.6) + \n",
    "  labs(x = \"Cholesterol Level (mg/dL)\",  # Including unit\n",
    "       y = \"Maximum Heart Rate (bpm)\", \n",
    "       color = \"Disease diagnosis\") + \n",
    "  ggtitle(\"Figure 2: Disease diagnosis based on Maximum Heart Rate & Cholesterol Level\") +\n",
    "  theme(\n",
    "    plot.title = element_text(size = 14),  # Adjust title size\n",
    "    axis.title = element_text(size = 14),  # Adjust axis label size\n",
    "    legend.title = element_text(size = 14) # Adjust legend title size\n",
    "  ) +\n",
    "  facet_grid(cols = (vars(sex)))\n",
    "heart_chol_hr_plot"
   ]
  },
  {
   "cell_type": "markdown",
   "id": "69f24235-5fcb-482b-a136-485b12706a3b",
   "metadata": {},
   "source": [
    "The second figure illustrates the correlation between Maximum Heart Rate in bpm and Cholesterol Level in mg/dl for both males and females. It is evident that the graph is nonlinear for both genders, indicating that there is no significant relationship between the two variables. As seen in Figure 1, Maximum Heart Rate does not exhibit a meaningful increase or decrease as Cholesterol Level increases, thereby suggesting that the variables have little to no relation. It can also be noted that the majority of men have their cholesterol levels between 200-250 mg/dl, whereas the data for females ranges more widely, between 200-300 mg/dl. Moreover, it is observed that men tend to have a higher maximum heart rate than females."
   ]
  },
  {
   "cell_type": "markdown",
   "id": "6b9b348d",
   "metadata": {},
   "source": [
    "# Methods\n",
    "To build a model for predicting the diagnosis of heart disease, we will follow the outlined approach.\n",
    "\n",
    "In the data preprocessing phase, we will focus on filtering the dataset to include only observations from the Cleveland area, aiming to reduce potential confounding variables introduced by regional differences. We will then split the data into training and testing sets. The disease classes will be combined into one because some of the original classes had too few observations to use classification effectively (large class imbalance), seen in table 2 where critical condition only had 9 observations.\n",
    "Then, we will select the following predictors: age, resting blood pressure, cholesterol, and maximum heart rate.\n",
    "These were chosen because they are numerical variables, which are much more useful than the other categorical variables for KNN classification, and they also do not have any missing data (see table 5).\n",
    "\n",
    "For model fitting and evaluation, we will split the training and testing sets both into male and female sets, due to the notable sex differences in diagnoses and predictor variables, seen in the discrepancies between male and female graphs in figure 1 and figure 2. We will be training a K-nearest neighbours classification model, so we will first need to use a recipe to scale and center the data. The model will be trained on the training set, using cross-validation to choose the optimal value of K, then evaluated on the testing set using accuracy, precision, and recall. Recall will be prioritized because false negative predictions (classifying disease \"present\" as \"absent\") are more costly. This evaluation process will be conducted separately for male and female categories to account for sex-specific variations.\n",
    "\n",
    "We will also visualize the accuracy, precision, and recall for both the male and female datasets when the model is evaluated on the **test data** using a combined bar chart, and also compare it to the cross-validation accuracy from the training set. Lastly, we will also display the confusion matrix (true positives, false positives, etc.) for each sex."
   ]
  },
  {
   "cell_type": "markdown",
   "id": "c98aa182",
   "metadata": {},
   "source": [
    "## Expected outcomes and significance\n",
    "Based on the outlined methods, we expect to find predictive models capable of accurately diagnosing heart disease based on patient attributes like age, blood pressure, cholesterol, and maximum heart rate achieved. We also expect there to be  differences in the model predictions and results for male and female patients due to the differing distributions seen in figures 1 and 2. Such findings could lead to improved early detection and treatment, potentially reducing the burden of heart disease globally. Future questions may explore the effectiveness of these models across different demographics, as well as their integration into clinical practice for better patient outcomes."
   ]
  },
  {
   "cell_type": "markdown",
   "id": "82413eeb",
   "metadata": {
    "editable": true,
    "slideshow": {
     "slide_type": ""
    },
    "tags": []
   },
   "source": [
    "## Data Processing and Analysis\n",
    "### Preparing Data for Analysis\n",
    "We already have training and testing datasets from just the Cleveland location with the disease classes combined. Let's continue by selecting only the required columns and dividing both sets into male and female."
   ]
  },
  {
   "cell_type": "code",
   "execution_count": null,
   "id": "5ccb4f76",
   "metadata": {},
   "outputs": [],
   "source": [
    "# Select only columns we are using\n",
    "heart_train <- select(heart_train, age, sex, trestbps, chol, thalch, disease)\n",
    "heart_test <- select(heart_test, age, sex, trestbps, chol, thalch, disease)"
   ]
  },
  {
   "cell_type": "code",
   "execution_count": null,
   "id": "75298662-cdeb-492e-9033-bede28af05e3",
   "metadata": {},
   "outputs": [],
   "source": [
    "#Filtering training dataset for Male\n",
    "m_train <- filter(heart_train, sex == \"Male\")\n",
    "m_train"
   ]
  },
  {
   "cell_type": "markdown",
   "id": "7f00bbf9-771a-41a0-92f5-a8bb5ed3b417",
   "metadata": {},
   "source": [
    "<p style=\"text-align:center;\"><strong>TABLE 6- Training set\n",
    "    for Male</strong></p>\n"
   ]
  },
  {
   "cell_type": "code",
   "execution_count": null,
   "id": "a774041d-1e6b-424b-a43e-4123f5c57b9f",
   "metadata": {},
   "outputs": [],
   "source": [
    "#Filtering training dataset for Female\n",
    "f_train <- filter(heart_train, sex == \"Female\")\n",
    "f_train"
   ]
  },
  {
   "cell_type": "markdown",
   "id": "f7b1ab30-7ee2-46ed-94ac-55c78086cb4d",
   "metadata": {},
   "source": [
    "<p style=\"text-align:center;\"><strong>TABLE 7- Training set for Female</strong></p>\n"
   ]
  },
  {
   "cell_type": "code",
   "execution_count": null,
   "id": "00cbdab4-aa11-4ebd-b715-9d831b93c5a9",
   "metadata": {},
   "outputs": [],
   "source": [
    "#Filtering testing dataset for Male\n",
    "m_test <- filter(heart_test, sex == \"Male\")\n",
    "m_test"
   ]
  },
  {
   "cell_type": "markdown",
   "id": "98f28de2-8121-4fe4-b823-2c413467ef4d",
   "metadata": {},
   "source": [
    "<p style=\"text-align:center;\"><strong>TABLE 8- Testing set for Male</strong></p>\n"
   ]
  },
  {
   "cell_type": "code",
   "execution_count": null,
   "id": "6b509c24-d4a1-476f-bfff-6af673454d69",
   "metadata": {},
   "outputs": [],
   "source": [
    "#Filtering testing dataset for Female\n",
    "f_test <- filter(heart_test, sex == \"Female\")\n",
    "f_test"
   ]
  },
  {
   "cell_type": "markdown",
   "id": "b207e364-7a68-4222-91fe-8d7b49493ceb",
   "metadata": {},
   "source": [
    "<p style=\"text-align:center;\"><strong>TABLE 9- Testing set for Female</strong></p>\n"
   ]
  },
  {
   "cell_type": "markdown",
   "id": "75895d96-899e-43dd-94d3-a0162a6f90cc",
   "metadata": {},
   "source": [
    "### Using Cross-Validation to Tune the KNN Model"
   ]
  },
  {
   "cell_type": "code",
   "execution_count": null,
   "id": "5eab92ef",
   "metadata": {},
   "outputs": [],
   "source": [
    "set.seed(11)\n",
    "# Perform cross-validation to choose K for male\n",
    "knn_spec_tune <- nearest_neighbor(weight_func = \"rectangular\", neighbors = tune()) |>\n",
    "set_engine(\"kknn\") |>\n",
    "set_mode(\"classification\")\n",
    "m_recipe <- recipe(disease ~ age + trestbps + chol + thalch, data = m_train) |>\n",
    "step_scale(all_predictors()) |>\n",
    "step_center(all_predictors())\n",
    "\n",
    "# Create vfold (5 folds) and gridvals tibble \n",
    "m_vfold <- vfold_cv(m_train, 5, strata = disease)\n",
    "gridvals <- tibble(neighbors = seq(from = 1, to = 14, by = 1))\n",
    "\n",
    "# Run tuning workflow and collect metrics\n",
    "m_fit_tune <- workflow() |>\n",
    "add_recipe(m_recipe) |>\n",
    "add_model(knn_spec_tune) |>\n",
    "tune_grid(resamples = m_vfold, grid = gridvals) |>\n",
    "collect_metrics() |>\n",
    "filter(.metric == \"accuracy\")\n",
    "\n",
    "m_tune_plot <- ggplot(m_fit_tune, aes(x = neighbors, y = mean)) + \n",
    "geom_point() +\n",
    "geom_line() + \n",
    "labs(x = \"Number of Neighbours\", y = \"Mean Cross-Validation Accuracy\", title = \"Figure 3: Cross-validation tuning results for male dataset\") +\n",
    "theme(\n",
    "    plot.title = element_text(size = 16),  # Adjust title size\n",
    "    axis.title = element_text(size = 14),  # Adjust axis label size\n",
    "  ) \n",
    "m_tune_plot"
   ]
  },
  {
   "cell_type": "markdown",
   "id": "cc5f0225-7a7a-42d2-abe2-e46c6585d7d2",
   "metadata": {},
   "source": [
    "For the male dataset, we will select $k = 5$ since it has close to the highest accuracy on the cross-validation, and also because changing to a nearby value (4 or 6) does not change the accuracy too significantly (the difference is less than 0.005), so that the choice will be reliable in the presence of uncertainty.  \n",
    "We avoided choosing $k = 11$ or $k = 12$ even though they have very slightly higher accuracy, since choosing these may pose too high a risk to cause underfitting, so that the model would not generalise well to the test data or a new dataset."
   ]
  },
  {
   "cell_type": "code",
   "execution_count": null,
   "id": "76f966ed-7d94-403f-bd0b-3adc1641bad1",
   "metadata": {},
   "outputs": [],
   "source": [
    "set.seed(11)\n",
    "# Perform cross-validation to choose K for female\n",
    "knn_spec_tune <- nearest_neighbor(weight_func = \"rectangular\", neighbors = tune()) |>\n",
    "  set_engine(\"kknn\") |>\n",
    "  set_mode(\"classification\")\n",
    "f_recipe <- recipe(disease ~ age + trestbps + chol + thalch, data = f_train) |>\n",
    "  step_scale(all_predictors()) |>\n",
    "  step_center(all_predictors())\n",
    "\n",
    "# Create vfold (5 folds) and gridvals tibble \n",
    "f_vfold <- vfold_cv(f_train, 5, strata = disease)\n",
    "gridvals <- tibble(neighbors = seq(from = 1, to = 14, by = 1))\n",
    "\n",
    "# Run tuning workflow and collect metrics\n",
    "f_fit_tune <- workflow() |>\n",
    "  add_recipe(f_recipe) |>\n",
    "  add_model(knn_spec_tune) |>\n",
    "  tune_grid(resamples = f_vfold, grid = gridvals) |>\n",
    "  collect_metrics() |>\n",
    "  filter(.metric == \"accuracy\")\n",
    "\n",
    "f_tune_plot <- ggplot(f_fit_tune, aes(x = neighbors, y = mean)) + \n",
    "geom_point() +\n",
    "geom_line() + \n",
    "labs(x = \"Number of Neighbours\", y = \"Mean Cross-Validation Accuracy\", title = \"Figure 4: Cross-validation tuning results for female dataset\") +\n",
    "theme(\n",
    "    plot.title = element_text(size = 16),  # Adjust title size\n",
    "    axis.title = element_text(size = 14),  # Adjust axis label size\n",
    "  ) \n",
    "f_tune_plot"
   ]
  },
  {
   "cell_type": "markdown",
   "id": "a3109eb8-df73-4de5-8fc5-eb08e8447525",
   "metadata": {},
   "source": [
    "For the female dataset, we will select $k = 3$ since it has the highest accuracy on the cross-validation, and also because changing to a nearby value (8 or 10) does not change the accuracy too significantly (no more than a 0.02 difference in accuracy), so that the choice will be reliable in the presence of uncertainty. This value is also not too low or high so we can avoid potential over or underfitting."
   ]
  },
  {
   "cell_type": "code",
   "execution_count": null,
   "id": "5be8a390-893f-4cec-a52c-6adf435a55b6",
   "metadata": {},
   "outputs": [],
   "source": [
    "# Get the cross-validation accuracy for the male set (k = 5)\n",
    "m_cv_accuracy <- m_fit_tune |> \n",
    "filter(neighbors == 5) |>\n",
    "mutate(sex = \"Male\")\n",
    "m_cv_accuracy |> pull(mean)"
   ]
  },
  {
   "cell_type": "code",
   "execution_count": null,
   "id": "8268d695-587f-485d-90f1-c37da835654a",
   "metadata": {},
   "outputs": [],
   "source": [
    "# Get the cross-validation accuracy for the female set (k = 3)\n",
    "f_cv_accuracy <- f_fit_tune |> \n",
    "filter(neighbors == 3) |>\n",
    "mutate(sex = \"Female\")\n",
    "f_cv_accuracy |> pull(mean)"
   ]
  },
  {
   "cell_type": "markdown",
   "id": "c472eb76-4879-470c-805d-aece66d3fd14",
   "metadata": {},
   "source": [
    "We can see that the best accuracy on cross-validation for the male set was around 66%, and the best accuracy for the female set was around 80%. We will compare this to the accuracy on the test set later to evaluate its predictions."
   ]
  },
  {
   "cell_type": "markdown",
   "id": "f8a12511-c607-4060-9b23-7d8ec8b07f0d",
   "metadata": {},
   "source": [
    "### Testing and Evaluation"
   ]
  },
  {
   "cell_type": "markdown",
   "id": "65e3c001-bf7f-4cfc-972e-ee657175b6ef",
   "metadata": {},
   "source": [
    "Now let's predict the labels on the **testing** set and evaluate the model based on the results."
   ]
  },
  {
   "cell_type": "code",
   "execution_count": null,
   "id": "99a813de-12d6-4ebc-84eb-b6ae9afb499f",
   "metadata": {},
   "outputs": [],
   "source": [
    "# Train models using the optimal values of k\n",
    "# Male (k = 5)\n",
    "m_spec_optimal <- nearest_neighbor(weight_func = \"rectangular\", neighbors = 5) |>\n",
    "set_engine(\"kknn\") |>\n",
    "set_mode(\"classification\")\n",
    "\n",
    "m_fit_final <- workflow() |>\n",
    "add_recipe(m_recipe) |>\n",
    "add_model(m_spec_optimal) |>\n",
    "fit(m_train)\n",
    "\n",
    "# Female (k = 3)\n",
    "f_spec_optimal <- nearest_neighbor(weight_func = \"rectangular\", neighbors = 3) |>\n",
    "set_engine(\"kknn\") |>\n",
    "set_mode(\"classification\")\n",
    "\n",
    "f_fit_final <- workflow() |>\n",
    "add_recipe(f_recipe) |>\n",
    "add_model(f_spec_optimal) |>\n",
    "fit(f_train)"
   ]
  },
  {
   "cell_type": "code",
   "execution_count": null,
   "id": "2d2626ab-de0a-4317-9e81-7cfa79feb5e7",
   "metadata": {},
   "outputs": [],
   "source": [
    "# Predict on the testing set using the optimal value of K for male (K=5)\n",
    "m_test_predictions <- predict(m_fit_final, m_test) |>\n",
    "  bind_cols(m_test)\n",
    "m_test_predictions"
   ]
  },
  {
   "cell_type": "markdown",
   "id": "46cf1cb9-d5fe-491d-93da-b64b7bfc76dc",
   "metadata": {},
   "source": [
    "<p style=\"text-align:center;\"><strong>TABLE 10- Predictions on Testing Set with Optimal $k=5$ for Males </strong></p>\n"
   ]
  },
  {
   "cell_type": "code",
   "execution_count": null,
   "id": "2218ab0a-1a43-4189-9a59-498d07d59374",
   "metadata": {},
   "outputs": [],
   "source": [
    "# Predict on the testing set using the optimal value of K for female (K=3)\n",
    "f_test_predictions <- predict(f_fit_final, f_test) |>\n",
    "  bind_cols(f_test)\n",
    "f_test_predictions"
   ]
  },
  {
   "cell_type": "markdown",
   "id": "41ca80d2-4aa2-4240-8d74-42873945d066",
   "metadata": {},
   "source": [
    "<p style=\"text-align:center;\"><strong>TABLE 11- Predictions on Testing Set with Optimal $k=3$ for Female </strong></p>\n"
   ]
  },
  {
   "cell_type": "code",
   "execution_count": null,
   "id": "9f8b0811-8cd8-4414-b764-352565befbe4",
   "metadata": {},
   "outputs": [],
   "source": [
    "# Calculate accuracy for male test data\n",
    "m_test_accuracy <- m_test_predictions |>\n",
    "    metrics(truth = disease, estimate = .pred_class)|>\n",
    "    filter(.metric == \"accuracy\")\n",
    "m_test_accuracy |> pull(.estimate)"
   ]
  },
  {
   "cell_type": "code",
   "execution_count": null,
   "id": "864a6fd0-62c7-4ab1-bf29-2e0574fc1054",
   "metadata": {},
   "outputs": [],
   "source": [
    "# Calculate accuracy for female test data\n",
    "f_test_accuracy <- f_test_predictions |>\n",
    "    metrics(truth = disease, estimate = .pred_class)|>\n",
    "    filter(.metric == \"accuracy\")\n",
    "f_test_accuracy |> pull(.estimate)"
   ]
  },
  {
   "cell_type": "code",
   "execution_count": null,
   "id": "6d39a4e6-5282-436f-982e-80d527ee273c",
   "metadata": {},
   "outputs": [],
   "source": [
    "#Recall for Male Test Predictions (set \"present\" as the positive class)\n",
    "m_recall <- m_test_predictions |>\n",
    "   recall(truth = disease, estimate = .pred_class, event_level = \"second\")\n",
    "m_recall |> pull(.estimate)"
   ]
  },
  {
   "cell_type": "code",
   "execution_count": null,
   "id": "45011118-10b1-4417-8aad-e410a6e35b00",
   "metadata": {},
   "outputs": [],
   "source": [
    "#Precision for Male Test Predictions (set \"present\" as the positive class)\n",
    "m_precision <- m_test_predictions |>\n",
    "   precision(truth = disease, estimate = .pred_class, event_level = \"second\")\n",
    "m_precision |> pull(.estimate)"
   ]
  },
  {
   "cell_type": "code",
   "execution_count": null,
   "id": "8cd366fc-c5c8-4db3-8301-4294a27efef5",
   "metadata": {},
   "outputs": [],
   "source": [
    "#Recall for Female Test Predictions (set \"present\" as the positive class)\n",
    "f_recall <- f_test_predictions |>\n",
    "   recall(truth = disease, estimate = .pred_class, event_level = \"second\")\n",
    "f_recall |> pull(.estimate)"
   ]
  },
  {
   "cell_type": "code",
   "execution_count": null,
   "id": "8ab5a4e7-f3e6-4e7e-802a-22c1b6913032",
   "metadata": {},
   "outputs": [],
   "source": [
    "#Precision for Female Test Predictions (set \"present\" as the positive class)\n",
    "f_precision <- f_test_predictions |>\n",
    "   precision(truth = disease, estimate = .pred_class, event_level = \"second\")\n",
    "f_precision |> pull(.estimate)"
   ]
  },
  {
   "cell_type": "code",
   "execution_count": null,
   "id": "f8598880-a4ee-4396-ab45-49d5a2b9ede1",
   "metadata": {},
   "outputs": [],
   "source": [
    "#Confusion Matrix for Male Test Predictions\n",
    "confusion_m <- m_test_predictions |>\n",
    "   conf_mat(truth = disease, estimate = .pred_class)\n",
    "confusion_m"
   ]
  },
  {
   "cell_type": "markdown",
   "id": "a790d2b3-3136-4cf5-b8be-fa2de119568d",
   "metadata": {},
   "source": [
    "<p style=\"text-align:center;\"><strong>TABLE 12- Confusion Matrix for Male </strong></p>\n"
   ]
  },
  {
   "cell_type": "code",
   "execution_count": null,
   "id": "1c2e5400-746c-4620-820e-dd202232cb29",
   "metadata": {},
   "outputs": [],
   "source": [
    "#Confusion Matrix for Female Test Predictions\n",
    "confusion_f <- f_test_predictions |>\n",
    "   conf_mat(truth = disease, estimate = .pred_class)\n",
    "confusion_f"
   ]
  },
  {
   "cell_type": "markdown",
   "id": "aacec452-9db4-4c01-a405-cf2fa8401295",
   "metadata": {},
   "source": [
    "<p style=\"text-align:center;\"><strong>TABLE 13- Confusion Matrix for Female </strong></p>\n"
   ]
  },
  {
   "cell_type": "markdown",
   "id": "272cff65-7169-4451-a017-9355c4084d46",
   "metadata": {},
   "source": [
    "### Visualising results"
   ]
  },
  {
   "cell_type": "code",
   "execution_count": null,
   "id": "c2ccf4a6-18b6-462c-a8f8-b5d9798e03de",
   "metadata": {},
   "outputs": [],
   "source": [
    "options(repr.plot.width = 8, repr.plot.height = 6)\n",
    "# Append column to predictions indicating whether prediction is correct\n",
    "all_predictions <- bind_rows(m_test_predictions, f_test_predictions) |>\n",
    "mutate(matching = case_when(disease == .pred_class ~ \"Correct\", TRUE ~ \"Incorrect\")) \n",
    "\n",
    "age_bp_predictions_plot <- all_predictions |>\n",
    "ggplot(aes(x = age, y = trestbps, color = .pred_class, shape = matching)) +\n",
    "  geom_point(size = 4, alpha = 0.6) + \n",
    "  labs(x = \"Age (years)\", y = \"Resting Blood Pressure (mmHg)\", color = \"Predicted Class\", shape = \"Prediction\") +\n",
    "ggtitle(\"Figure 5: Testing set predictions vs. Age & Resting Blood Pressure\") +  \n",
    "  theme(\n",
    "    plot.title = element_text(size = 16),  # Adjust title size\n",
    "    axis.title = element_text(size = 14),  # Adjust axis label size\n",
    "    legend.title = element_text(size = 14) # Adjust legend title size\n",
    "  ) +\n",
    "  facet_grid(cols = (vars(sex)))\n",
    "\n",
    "age_bp_predictions_plot"
   ]
  },
  {
   "cell_type": "markdown",
   "id": "4deb54d2-78c8-4d1e-91f4-a59680f6c624",
   "metadata": {},
   "source": [
    "Figure 5 compares the predictions made on the testing set with respect to age and resting blood pressure, while also taking into account sex differences. When comparing Figure 5 with Figure 1 (representing the training set), the overall pattern of the predictions seem to match the distribution of the training data for males, but for females there is a much smaller region where \"present\" was predicted."
   ]
  },
  {
   "cell_type": "code",
   "execution_count": null,
   "id": "9d245dca-8dd2-4a86-a90e-d3b000d8aa77",
   "metadata": {},
   "outputs": [],
   "source": [
    "options(repr.plot.width = 8, repr.plot.height = 6)\n",
    "chol_hr_predictions_plot <- all_predictions |>\n",
    "ggplot(aes(x = chol, y = thalch, color = .pred_class, shape = matching)) +\n",
    "    geom_point(size = 4, alpha = 0.6) + \n",
    "    labs(x = \"Cholesterol Level (mg/dL)\",  # Including unit\n",
    "       y = \"Maximum Heart Rate (bpm)\", \n",
    "       color = \"Actual Class\", shape = \"Prediction\") + \n",
    "  ggtitle(\"Figure 6: Testing set predictions vs. Maximum Heart Rate & Cholesterol Level\") +  \n",
    "theme(\n",
    "    plot.title = element_text(size = 14),  # Adjust title size\n",
    "    axis.title = element_text(size = 14),  # Adjust axis label size\n",
    "    legend.title = element_text(size = 14) # Adjust legend title size\n",
    "  ) +\n",
    "  facet_grid(cols = (vars(sex)))\n",
    "chol_hr_predictions_plot"
   ]
  },
  {
   "cell_type": "markdown",
   "id": "02319784-974f-4c51-bc84-a9f832e7ef01",
   "metadata": {},
   "source": [
    "Figure 6 depicts the testing set predictions against maximum heart rate and cholesterol level, showing similar trends to Figure 5: the testing prediction patterns match the training data (Figure 2) closely on the male dataset, but for the female dataset the model had a harder time finding a defined region to predict \"present\".\n",
    "\n",
    "Figures 5 and 6 show that the KNN model was able to find patterns in the predictors to classify \"present\" and \"absent\" for males, since the prediction patterns are similar to the training data distribution. However, this was not true for females: the predictions lined up less well with the training data distribution. This could be due to the class imbalance in the training data (see figure 1) causing the KNN model to predict \"absent\" more often in the female data set since it makes up the majority of points.\n",
    "\n",
    "Becuase of this, there is a noticeable difference in prediction accuracy between males and females, with the predictions for females being more accurate overall, but only for negative predictions, which are less important in the context of this study. For females, the model made a lot of false negatives (costly) compared to the number of total positive predictions, due to the model not being able to correctly predict the presence of disease from the given training data and predictor variables, so the model's recall was very poor."
   ]
  },
  {
   "cell_type": "code",
   "execution_count": null,
   "id": "68f2eee9-26d8-4db4-81e9-06d24c6de8e0",
   "metadata": {},
   "outputs": [],
   "source": [
    "# Visualise evaluation metrics\n",
    "options(repr.matrix.max.rows = 6)\n",
    "options(repr.plot.height = 5)\n",
    "options(repr.plot.width = 5)\n",
    "m_merged_metrics <- bind_rows(m_test_accuracy, m_precision, m_recall) |>\n",
    "mutate(sex = \"Male\")\n",
    "f_merged_metrics <- bind_rows(f_test_accuracy, f_precision, f_recall) |>\n",
    "mutate(sex = \"Female\")\n",
    "\n",
    "all_metrics <- bind_rows(m_merged_metrics, f_merged_metrics) |>\n",
    "group_by(sex)\n",
    "\n",
    "all_metrics_plot <- ggplot(all_metrics, aes(x = sex, y = .estimate, fill = .metric)) +\n",
    "geom_bar(stat = \"identity\", position = \"dodge\") + \n",
    "labs(fill = \"Prediction Metric\", x = \"Sex\", y = \"Value\", title = \"Figure 7: Chart of evaluation metrics on testing sets\")\n",
    "all_metrics_plot"
   ]
  },
  {
   "cell_type": "markdown",
   "id": "83ea579e-dc63-46c0-a443-007aed2207f0",
   "metadata": {},
   "source": [
    "We can see that the KNN classification model was somewhat successful in terms of accuracy for the male dataset, with an accuracy of around 65% according to figure 7. Precision is also moderately high at around 70%. However, considering the context of this data analysis, recall should be the most important metric to consider, since it is the ratio of correct positive predictions to total actual positives. This means that it is impacted by false negatives, which are the most costly errors in the context of predicting disease, since it would be very bad to predict a diseased case as healthy. For the male dataset, the recall is rather mediocre at around 65%, which would mean this prediction model is not suitable for diagnosing heart disease in new patients."
   ]
  },
  {
   "cell_type": "markdown",
   "id": "e38a3c76-d8ce-49f4-ba26-2c05ece2ba91",
   "metadata": {},
   "source": [
    "As for the female dataset, the accuracy is actually higher than the male dataset at around 70%, however, looking at the confusion matrix in table 13 along with figures 5 and 6, this appears to be because the model simply guessed \"absent\" the majority of the time, and because the female dataset is imbalanced towards \"absent\" disease (see figure 1 and 2), which created an illusion of good performance. However, by looking at precision and recall which are both below 25% for the female data set which is very poor in terms of being able to accurately diagnose heart disease in female patients with this training data."
   ]
  },
  {
   "cell_type": "markdown",
   "id": "c66de5fd-a543-4b31-8dde-f15399f8099a",
   "metadata": {},
   "source": [
    "Let's compare these metrics to the earlier model accuracies from the training set:"
   ]
  },
  {
   "cell_type": "code",
   "execution_count": null,
   "id": "82e972fd-7f7d-412b-9265-ba6bae20ec31",
   "metadata": {},
   "outputs": [],
   "source": [
    "cv_accuracy_plot <- bind_rows(m_cv_accuracy, f_cv_accuracy) |>\n",
    "ggplot(aes(x = sex, y = mean)) + \n",
    "geom_bar(stat = \"identity\") + \n",
    "labs(x = \"Sex\", y = \"Accuracy\", title = \"Figure 8: Chart of cross-validation accuracy\")\n",
    "cv_accuracy_plot"
   ]
  },
  {
   "cell_type": "markdown",
   "id": "c1fd7bb7-6dec-481e-b4ec-eb33583fa627",
   "metadata": {},
   "source": [
    "We can see from figure 8 that the cross-validation accuracy was 80% for female and around 65% for male. The accuracy on the male dataset is very similar, but the accuracy for the female data set was substantially higher on the training than the testing set (80% vs 70%). This might indicate that the model was either under- or over-fitting on the testing data. Given the low $k$ value of 3, it is possible that this could be due to overfitting. This could be assessed in future analysis to improve the predictive power of the model."
   ]
  },
  {
   "cell_type": "markdown",
   "id": "353ac997",
   "metadata": {},
   "source": [
    "## Discussion\n",
    "**SUMMARY:**\n",
    "\n",
    "This study aimed to develop predictive models for diagnosing heart disease based on patient attributes like age, blood pressure, cholesterol, and maximum heart rate, focusing on the UCI Heart Disease dataset's Cleveland subset. Notable differences were observed between male and female patients in both diagnoses and predictor variables. To address class imbalance, disease classes were combined. K-nearest neighbors (KNN) classification models were trained and evaluated separately for male and female datasets, prioritizing recall due to the cost of false negatives.\n",
    "\n",
    "The results indicate **moderately good performance** in diagnosing heart disease using the aformentioned predictors among male patients but **not among female patients**. *To some extent*, we can predict whether a male patient will be diagnosed with heart disease, but we cannot do the same for female patients.\n",
    "\n",
    "This suggests that the model is more adept at correctly identifying heart disease cases in male patients compared to female patients. This may mean that these predictors or this model are not suitable for female patients or there may be other factors causing the poor performance (discussed below). Further research may explore improving model performance for female patients, (possibly by experimenting with different predictors, using a larger sample size or different classification algorithm), and investigating demographic variations in model effectiveness for broader clinical applicability.\n",
    "\n",
    "**EXPECTATIONS vs. FINDINGS:**\n",
    "\n",
    "The results for male patients align somewhat with expectations, as the model was able to predict with 65% accuracy on the training data, with similar values for precision and recall (See Figure 7). There was a significantly greater proportion of male patients in the disease classes (see table 3), suggesting that the relatively good performance of the model for males could be attributed to there being sufficient training data with balanced classes.\n",
    "\n",
    "However, the findings for female patients are unexpected, as the selected variables did not yield the desired level of performance in predicting heart disease (20% recall, Figure 7), despite the training set seeming to show greater separation in the two classes for females (figure 1 and 2). The unexpected findings for female patients can be attributed to several factors, such as class imbalance (see figures 1 and 2) and a smaller sample size (see tables 6-9), which may have led to a lack of sufficient training data for the model to learn and predict effectively. The small size of the female testing data set (especially the positive class) may have also caused the low precision/recall observed, due to the possible large impacts of outliers in the test set (see figures 5 and 6). Comparing figures 7 and 8, it is also *possible* that the model was overfitting for females, meaning it was influenced too much by the training data set.\n",
    "\n",
    "Although it was considered to create a color diagram to check for under/overfitting, we were limited by the available computational resources. Nonetheless, the model's performance was close to expectations for males, suggesting that it could be a useful assistive tool to diagnose heart disease in male patients, despite being a rudimentary model with a smaller dataset. Previous literature found model precisions of 0.8671 for males and 0.8991 for females in studies of similar topics. (Yang et. al, 2023) so we expected our model to produce similar results. However, the results show that although our model produced somewhat similar precision on the male dataset (~75%), the model greatly underperformed compared to literature models on the female dataset. This can be explained by the aforementioned reasons, especially the small sample size used for female patients in our model as compared to literature.\n",
    "\n",
    "**IMPACT OF FINDINGS:**\n",
    "\n",
    "Such findings could have significant implications for healthcare practices and policies. For instance, they could underscore the importance of considering sex-specific differences in the development and evaluation of predictive models for heart disease diagnosis. (Ahmad, 2023). Furthermore, both studies cited in this report as well as many other studies in journals all chose to differenciate sex data in the development and evaluation of predictive models. Additionally, it might prompt further investigation into the factors contributing to the disparity in model performance between male and female patients.\n",
    "\n",
    "**FUTURE QUESTIONS:**\n",
    "\n",
    "These findings could lead to several future research questions, such as:\n",
    "1. What are the underlying reasons for the disparity in model performance between male and female patients?\n",
    "2. Are there additional patient attributes or variables that should be considered to improve the accuracy of heart disease diagnosis models for female patients?\n",
    "3. Would the model be able to better predict the presence of disease in female patients given a larger training dataset?\n",
    "\n",
    "Overall, these findings highlight the importance of ongoing research and development efforts to address sex-specific differences in heart disease diagnosis and treatment, ultimately leading to improved healthcare outcomes for all patients."
   ]
  },
  {
   "cell_type": "markdown",
   "id": "dfec5f4e",
   "metadata": {},
   "source": [
    "## References"
   ]
  },
  {
   "cell_type": "markdown",
   "id": "738e55ed",
   "metadata": {},
   "source": [
    "Yang, H., Luo, Y.-M., Ma, C.-Y., Zhang, T.-Y., Zhou, T., Ren, X.-L., … Lin, H. (2023). A gender specific risk assessment of   coronary heart disease based on Physical Examination Data. *Npj Digital Medicine, 6*(1). doi:10.1038/s41746-023-00887-8 "
   ]
  },
  {
   "cell_type": "markdown",
   "id": "a7f72e78",
   "metadata": {},
   "source": [
    "Ahmad AA, Polat H. (2023). Prediction of Heart Disease Based on Machine Learning Using Jellyfish Optimization Algorithm. *Diagnostics*, 13(14). doi: 10.3390/diagnostics13142392."
   ]
  },
  {
   "cell_type": "markdown",
   "id": "3d16bfc0-fc79-445c-a5c6-0c3da81154d2",
   "metadata": {},
   "source": [
    "Janosi, A., Steinbrunn, W., Pfisterer, M., Detrano, R. (1988). Heart Disease. *UCI Machine Learning Repository*. doi: 10.24432/C52P4X"
   ]
  }
 ],
 "metadata": {
  "kernelspec": {
   "display_name": "R",
   "language": "R",
   "name": "ir"
  },
  "language_info": {
   "codemirror_mode": "r",
   "file_extension": ".r",
   "mimetype": "text/x-r-source",
   "name": "R",
   "pygments_lexer": "r",
   "version": "4.3.1"
  }
 },
 "nbformat": 4,
 "nbformat_minor": 5
}
