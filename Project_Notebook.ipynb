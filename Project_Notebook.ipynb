{
 "cells": [
  {
   "cell_type": "markdown",
   "id": "fd6c6c15-1239-4a23-b869-00ebc0fbb205",
   "metadata": {},
   "source": [
    "# Classification-based prediction of heart disease diagnoses"
   ]
  },
  {
   "cell_type": "markdown",
   "id": "c20830b7-3aee-432c-bfa9-6b34012054e9",
   "metadata": {},
   "source": [
    "## Introduction:\n",
    "**Provide some relevant background information on the topic so that someone unfamiliar with it will be prepared to understand the rest of your proposal**\n",
    "\n",
    "**Clearly state the question you will try to answer with your project**\n",
    "\n",
    "**Identify and describe the dataset that will be used to answer the question**"
   ]
  },
  {
   "cell_type": "markdown",
   "id": "c2af22dc-da92-4800-a9af-440e2a879c65",
   "metadata": {},
   "source": [
    "## Exploratory data analysis"
   ]
  },
  {
   "cell_type": "code",
   "execution_count": 5,
   "id": "0ab5b6c2-cef7-4ac3-a004-1f150b79bb85",
   "metadata": {},
   "outputs": [],
   "source": [
    "# Run this cell before continuing\n",
    "library(tidyverse)\n",
    "library(repr)\n",
    "library(tidymodels)\n",
    "options(repr.matrix.max.rows = 6)\n",
    "set.seed(69)"
   ]
  },
  {
   "cell_type": "code",
   "execution_count": 7,
   "id": "96990eca-6c4a-4eb4-b82a-a22fad7a5b8f",
   "metadata": {},
   "outputs": [
    {
     "name": "stderr",
     "output_type": "stream",
     "text": [
      "\u001b[1mRows: \u001b[22m\u001b[34m920\u001b[39m \u001b[1mColumns: \u001b[22m\u001b[34m16\u001b[39m\n",
      "\u001b[36m──\u001b[39m \u001b[1mColumn specification\u001b[22m \u001b[36m────────────────────────────────────────────────────────\u001b[39m\n",
      "\u001b[1mDelimiter:\u001b[22m \",\"\n",
      "\u001b[31mchr\u001b[39m (6): sex, dataset, cp, restecg, slope, thal\n",
      "\u001b[32mdbl\u001b[39m (8): id, age, trestbps, chol, thalch, oldpeak, ca, num\n",
      "\u001b[33mlgl\u001b[39m (2): fbs, exang\n",
      "\n",
      "\u001b[36mℹ\u001b[39m Use `spec()` to retrieve the full column specification for this data.\n",
      "\u001b[36mℹ\u001b[39m Specify the column types or set `show_col_types = FALSE` to quiet this message.\n"
     ]
    },
    {
     "data": {
      "text/html": [
       "<table class=\"dataframe\">\n",
       "<caption>A tibble: 6 × 16</caption>\n",
       "<thead>\n",
       "\t<tr><th scope=col>id</th><th scope=col>age</th><th scope=col>sex</th><th scope=col>dataset</th><th scope=col>cp</th><th scope=col>trestbps</th><th scope=col>chol</th><th scope=col>fbs</th><th scope=col>restecg</th><th scope=col>thalch</th><th scope=col>exang</th><th scope=col>oldpeak</th><th scope=col>slope</th><th scope=col>ca</th><th scope=col>thal</th><th scope=col>num</th></tr>\n",
       "\t<tr><th scope=col>&lt;dbl&gt;</th><th scope=col>&lt;dbl&gt;</th><th scope=col>&lt;chr&gt;</th><th scope=col>&lt;chr&gt;</th><th scope=col>&lt;chr&gt;</th><th scope=col>&lt;dbl&gt;</th><th scope=col>&lt;dbl&gt;</th><th scope=col>&lt;lgl&gt;</th><th scope=col>&lt;chr&gt;</th><th scope=col>&lt;dbl&gt;</th><th scope=col>&lt;lgl&gt;</th><th scope=col>&lt;dbl&gt;</th><th scope=col>&lt;chr&gt;</th><th scope=col>&lt;dbl&gt;</th><th scope=col>&lt;chr&gt;</th><th scope=col>&lt;dbl&gt;</th></tr>\n",
       "</thead>\n",
       "<tbody>\n",
       "\t<tr><td>1</td><td>63</td><td>Male  </td><td>Cleveland</td><td>typical angina </td><td>145</td><td>233</td><td> TRUE</td><td>lv hypertrophy</td><td>150</td><td>FALSE</td><td>2.3</td><td>downsloping</td><td>0</td><td>fixed defect     </td><td>0</td></tr>\n",
       "\t<tr><td>2</td><td>67</td><td>Male  </td><td>Cleveland</td><td>asymptomatic   </td><td>160</td><td>286</td><td>FALSE</td><td>lv hypertrophy</td><td>108</td><td> TRUE</td><td>1.5</td><td>flat       </td><td>3</td><td>normal           </td><td>2</td></tr>\n",
       "\t<tr><td>3</td><td>67</td><td>Male  </td><td>Cleveland</td><td>asymptomatic   </td><td>120</td><td>229</td><td>FALSE</td><td>lv hypertrophy</td><td>129</td><td> TRUE</td><td>2.6</td><td>flat       </td><td>2</td><td>reversable defect</td><td>1</td></tr>\n",
       "\t<tr><td>4</td><td>37</td><td>Male  </td><td>Cleveland</td><td>non-anginal    </td><td>130</td><td>250</td><td>FALSE</td><td>normal        </td><td>187</td><td>FALSE</td><td>3.5</td><td>downsloping</td><td>0</td><td>normal           </td><td>0</td></tr>\n",
       "\t<tr><td>5</td><td>41</td><td>Female</td><td>Cleveland</td><td>atypical angina</td><td>130</td><td>204</td><td>FALSE</td><td>lv hypertrophy</td><td>172</td><td>FALSE</td><td>1.4</td><td>upsloping  </td><td>0</td><td>normal           </td><td>0</td></tr>\n",
       "\t<tr><td>6</td><td>56</td><td>Male  </td><td>Cleveland</td><td>atypical angina</td><td>120</td><td>236</td><td>FALSE</td><td>normal        </td><td>178</td><td>FALSE</td><td>0.8</td><td>upsloping  </td><td>0</td><td>normal           </td><td>0</td></tr>\n",
       "</tbody>\n",
       "</table>\n"
      ],
      "text/latex": [
       "A tibble: 6 × 16\n",
       "\\begin{tabular}{llllllllllllllll}\n",
       " id & age & sex & dataset & cp & trestbps & chol & fbs & restecg & thalch & exang & oldpeak & slope & ca & thal & num\\\\\n",
       " <dbl> & <dbl> & <chr> & <chr> & <chr> & <dbl> & <dbl> & <lgl> & <chr> & <dbl> & <lgl> & <dbl> & <chr> & <dbl> & <chr> & <dbl>\\\\\n",
       "\\hline\n",
       "\t 1 & 63 & Male   & Cleveland & typical angina  & 145 & 233 &  TRUE & lv hypertrophy & 150 & FALSE & 2.3 & downsloping & 0 & fixed defect      & 0\\\\\n",
       "\t 2 & 67 & Male   & Cleveland & asymptomatic    & 160 & 286 & FALSE & lv hypertrophy & 108 &  TRUE & 1.5 & flat        & 3 & normal            & 2\\\\\n",
       "\t 3 & 67 & Male   & Cleveland & asymptomatic    & 120 & 229 & FALSE & lv hypertrophy & 129 &  TRUE & 2.6 & flat        & 2 & reversable defect & 1\\\\\n",
       "\t 4 & 37 & Male   & Cleveland & non-anginal     & 130 & 250 & FALSE & normal         & 187 & FALSE & 3.5 & downsloping & 0 & normal            & 0\\\\\n",
       "\t 5 & 41 & Female & Cleveland & atypical angina & 130 & 204 & FALSE & lv hypertrophy & 172 & FALSE & 1.4 & upsloping   & 0 & normal            & 0\\\\\n",
       "\t 6 & 56 & Male   & Cleveland & atypical angina & 120 & 236 & FALSE & normal         & 178 & FALSE & 0.8 & upsloping   & 0 & normal            & 0\\\\\n",
       "\\end{tabular}\n"
      ],
      "text/markdown": [
       "\n",
       "A tibble: 6 × 16\n",
       "\n",
       "| id &lt;dbl&gt; | age &lt;dbl&gt; | sex &lt;chr&gt; | dataset &lt;chr&gt; | cp &lt;chr&gt; | trestbps &lt;dbl&gt; | chol &lt;dbl&gt; | fbs &lt;lgl&gt; | restecg &lt;chr&gt; | thalch &lt;dbl&gt; | exang &lt;lgl&gt; | oldpeak &lt;dbl&gt; | slope &lt;chr&gt; | ca &lt;dbl&gt; | thal &lt;chr&gt; | num &lt;dbl&gt; |\n",
       "|---|---|---|---|---|---|---|---|---|---|---|---|---|---|---|---|\n",
       "| 1 | 63 | Male   | Cleveland | typical angina  | 145 | 233 |  TRUE | lv hypertrophy | 150 | FALSE | 2.3 | downsloping | 0 | fixed defect      | 0 |\n",
       "| 2 | 67 | Male   | Cleveland | asymptomatic    | 160 | 286 | FALSE | lv hypertrophy | 108 |  TRUE | 1.5 | flat        | 3 | normal            | 2 |\n",
       "| 3 | 67 | Male   | Cleveland | asymptomatic    | 120 | 229 | FALSE | lv hypertrophy | 129 |  TRUE | 2.6 | flat        | 2 | reversable defect | 1 |\n",
       "| 4 | 37 | Male   | Cleveland | non-anginal     | 130 | 250 | FALSE | normal         | 187 | FALSE | 3.5 | downsloping | 0 | normal            | 0 |\n",
       "| 5 | 41 | Female | Cleveland | atypical angina | 130 | 204 | FALSE | lv hypertrophy | 172 | FALSE | 1.4 | upsloping   | 0 | normal            | 0 |\n",
       "| 6 | 56 | Male   | Cleveland | atypical angina | 120 | 236 | FALSE | normal         | 178 | FALSE | 0.8 | upsloping   | 0 | normal            | 0 |\n",
       "\n"
      ],
      "text/plain": [
       "  id age sex    dataset   cp              trestbps chol fbs   restecg       \n",
       "1 1  63  Male   Cleveland typical angina  145      233   TRUE lv hypertrophy\n",
       "2 2  67  Male   Cleveland asymptomatic    160      286  FALSE lv hypertrophy\n",
       "3 3  67  Male   Cleveland asymptomatic    120      229  FALSE lv hypertrophy\n",
       "4 4  37  Male   Cleveland non-anginal     130      250  FALSE normal        \n",
       "5 5  41  Female Cleveland atypical angina 130      204  FALSE lv hypertrophy\n",
       "6 6  56  Male   Cleveland atypical angina 120      236  FALSE normal        \n",
       "  thalch exang oldpeak slope       ca thal              num\n",
       "1 150    FALSE 2.3     downsloping 0  fixed defect      0  \n",
       "2 108     TRUE 1.5     flat        3  normal            2  \n",
       "3 129     TRUE 2.6     flat        2  reversable defect 1  \n",
       "4 187    FALSE 3.5     downsloping 0  normal            0  \n",
       "5 172    FALSE 1.4     upsloping   0  normal            0  \n",
       "6 178    FALSE 0.8     upsloping   0  normal            0  "
      ]
     },
     "metadata": {},
     "output_type": "display_data"
    }
   ],
   "source": [
    "heart <- read_csv(\"data/heart_disease_uci.csv\")\n",
    "head(heart)"
   ]
  },
  {
   "cell_type": "markdown",
   "id": "147e3e70-6b09-4c06-8bff-bd0edeaf5411",
   "metadata": {},
   "source": [
    "We then filter the data to look at only one location (Cleveland) to reduce the effect of possible confounding variables introduced by the local environment."
   ]
  },
  {
   "cell_type": "code",
   "execution_count": 8,
   "id": "014917f1-126c-425c-9442-2563256b52ed",
   "metadata": {},
   "outputs": [
    {
     "data": {
      "text/html": [
       "<table class=\"dataframe\">\n",
       "<caption>A spec_tbl_df: 304 × 16</caption>\n",
       "<thead>\n",
       "\t<tr><th scope=col>id</th><th scope=col>age</th><th scope=col>sex</th><th scope=col>dataset</th><th scope=col>cp</th><th scope=col>trestbps</th><th scope=col>chol</th><th scope=col>fbs</th><th scope=col>restecg</th><th scope=col>thalch</th><th scope=col>exang</th><th scope=col>oldpeak</th><th scope=col>slope</th><th scope=col>ca</th><th scope=col>thal</th><th scope=col>num</th></tr>\n",
       "\t<tr><th scope=col>&lt;dbl&gt;</th><th scope=col>&lt;dbl&gt;</th><th scope=col>&lt;chr&gt;</th><th scope=col>&lt;chr&gt;</th><th scope=col>&lt;chr&gt;</th><th scope=col>&lt;dbl&gt;</th><th scope=col>&lt;dbl&gt;</th><th scope=col>&lt;lgl&gt;</th><th scope=col>&lt;chr&gt;</th><th scope=col>&lt;dbl&gt;</th><th scope=col>&lt;lgl&gt;</th><th scope=col>&lt;dbl&gt;</th><th scope=col>&lt;chr&gt;</th><th scope=col>&lt;dbl&gt;</th><th scope=col>&lt;chr&gt;</th><th scope=col>&lt;dbl&gt;</th></tr>\n",
       "</thead>\n",
       "<tbody>\n",
       "\t<tr><td>1</td><td>63</td><td>Male</td><td>Cleveland</td><td>typical angina</td><td>145</td><td>233</td><td> TRUE</td><td>lv hypertrophy</td><td>150</td><td>FALSE</td><td>2.3</td><td>downsloping</td><td>0</td><td>fixed defect     </td><td>0</td></tr>\n",
       "\t<tr><td>2</td><td>67</td><td>Male</td><td>Cleveland</td><td>asymptomatic  </td><td>160</td><td>286</td><td>FALSE</td><td>lv hypertrophy</td><td>108</td><td> TRUE</td><td>1.5</td><td>flat       </td><td>3</td><td>normal           </td><td>2</td></tr>\n",
       "\t<tr><td>3</td><td>67</td><td>Male</td><td>Cleveland</td><td>asymptomatic  </td><td>120</td><td>229</td><td>FALSE</td><td>lv hypertrophy</td><td>129</td><td> TRUE</td><td>2.6</td><td>flat       </td><td>2</td><td>reversable defect</td><td>1</td></tr>\n",
       "\t<tr><td>⋮</td><td>⋮</td><td>⋮</td><td>⋮</td><td>⋮</td><td>⋮</td><td>⋮</td><td>⋮</td><td>⋮</td><td>⋮</td><td>⋮</td><td>⋮</td><td>⋮</td><td>⋮</td><td>⋮</td><td>⋮</td></tr>\n",
       "\t<tr><td>302</td><td>57</td><td>Female</td><td>Cleveland</td><td>atypical angina</td><td>130</td><td>236</td><td>FALSE</td><td>lv hypertrophy</td><td>174</td><td>FALSE</td><td>0</td><td>flat     </td><td> 1</td><td>normal</td><td>1</td></tr>\n",
       "\t<tr><td>303</td><td>38</td><td>Male  </td><td>Cleveland</td><td>non-anginal    </td><td>138</td><td>175</td><td>FALSE</td><td>normal        </td><td>173</td><td>FALSE</td><td>0</td><td>upsloping</td><td>NA</td><td>normal</td><td>0</td></tr>\n",
       "\t<tr><td>304</td><td>28</td><td>Male  </td><td>Cleveland</td><td>atypical angina</td><td>130</td><td>132</td><td>FALSE</td><td>lv hypertrophy</td><td>185</td><td>FALSE</td><td>0</td><td>NA       </td><td>NA</td><td>NA    </td><td>0</td></tr>\n",
       "</tbody>\n",
       "</table>\n"
      ],
      "text/latex": [
       "A spec\\_tbl\\_df: 304 × 16\n",
       "\\begin{tabular}{llllllllllllllll}\n",
       " id & age & sex & dataset & cp & trestbps & chol & fbs & restecg & thalch & exang & oldpeak & slope & ca & thal & num\\\\\n",
       " <dbl> & <dbl> & <chr> & <chr> & <chr> & <dbl> & <dbl> & <lgl> & <chr> & <dbl> & <lgl> & <dbl> & <chr> & <dbl> & <chr> & <dbl>\\\\\n",
       "\\hline\n",
       "\t 1 & 63 & Male & Cleveland & typical angina & 145 & 233 &  TRUE & lv hypertrophy & 150 & FALSE & 2.3 & downsloping & 0 & fixed defect      & 0\\\\\n",
       "\t 2 & 67 & Male & Cleveland & asymptomatic   & 160 & 286 & FALSE & lv hypertrophy & 108 &  TRUE & 1.5 & flat        & 3 & normal            & 2\\\\\n",
       "\t 3 & 67 & Male & Cleveland & asymptomatic   & 120 & 229 & FALSE & lv hypertrophy & 129 &  TRUE & 2.6 & flat        & 2 & reversable defect & 1\\\\\n",
       "\t ⋮ & ⋮ & ⋮ & ⋮ & ⋮ & ⋮ & ⋮ & ⋮ & ⋮ & ⋮ & ⋮ & ⋮ & ⋮ & ⋮ & ⋮ & ⋮\\\\\n",
       "\t 302 & 57 & Female & Cleveland & atypical angina & 130 & 236 & FALSE & lv hypertrophy & 174 & FALSE & 0 & flat      &  1 & normal & 1\\\\\n",
       "\t 303 & 38 & Male   & Cleveland & non-anginal     & 138 & 175 & FALSE & normal         & 173 & FALSE & 0 & upsloping & NA & normal & 0\\\\\n",
       "\t 304 & 28 & Male   & Cleveland & atypical angina & 130 & 132 & FALSE & lv hypertrophy & 185 & FALSE & 0 & NA        & NA & NA     & 0\\\\\n",
       "\\end{tabular}\n"
      ],
      "text/markdown": [
       "\n",
       "A spec_tbl_df: 304 × 16\n",
       "\n",
       "| id &lt;dbl&gt; | age &lt;dbl&gt; | sex &lt;chr&gt; | dataset &lt;chr&gt; | cp &lt;chr&gt; | trestbps &lt;dbl&gt; | chol &lt;dbl&gt; | fbs &lt;lgl&gt; | restecg &lt;chr&gt; | thalch &lt;dbl&gt; | exang &lt;lgl&gt; | oldpeak &lt;dbl&gt; | slope &lt;chr&gt; | ca &lt;dbl&gt; | thal &lt;chr&gt; | num &lt;dbl&gt; |\n",
       "|---|---|---|---|---|---|---|---|---|---|---|---|---|---|---|---|\n",
       "| 1 | 63 | Male | Cleveland | typical angina | 145 | 233 |  TRUE | lv hypertrophy | 150 | FALSE | 2.3 | downsloping | 0 | fixed defect      | 0 |\n",
       "| 2 | 67 | Male | Cleveland | asymptomatic   | 160 | 286 | FALSE | lv hypertrophy | 108 |  TRUE | 1.5 | flat        | 3 | normal            | 2 |\n",
       "| 3 | 67 | Male | Cleveland | asymptomatic   | 120 | 229 | FALSE | lv hypertrophy | 129 |  TRUE | 2.6 | flat        | 2 | reversable defect | 1 |\n",
       "| ⋮ | ⋮ | ⋮ | ⋮ | ⋮ | ⋮ | ⋮ | ⋮ | ⋮ | ⋮ | ⋮ | ⋮ | ⋮ | ⋮ | ⋮ | ⋮ |\n",
       "| 302 | 57 | Female | Cleveland | atypical angina | 130 | 236 | FALSE | lv hypertrophy | 174 | FALSE | 0 | flat      |  1 | normal | 1 |\n",
       "| 303 | 38 | Male   | Cleveland | non-anginal     | 138 | 175 | FALSE | normal         | 173 | FALSE | 0 | upsloping | NA | normal | 0 |\n",
       "| 304 | 28 | Male   | Cleveland | atypical angina | 130 | 132 | FALSE | lv hypertrophy | 185 | FALSE | 0 | NA        | NA | NA     | 0 |\n",
       "\n"
      ],
      "text/plain": [
       "    id  age sex    dataset   cp              trestbps chol fbs   restecg       \n",
       "1   1   63  Male   Cleveland typical angina  145      233   TRUE lv hypertrophy\n",
       "2   2   67  Male   Cleveland asymptomatic    160      286  FALSE lv hypertrophy\n",
       "3   3   67  Male   Cleveland asymptomatic    120      229  FALSE lv hypertrophy\n",
       "⋮   ⋮   ⋮   ⋮      ⋮         ⋮               ⋮        ⋮    ⋮     ⋮             \n",
       "302 302 57  Female Cleveland atypical angina 130      236  FALSE lv hypertrophy\n",
       "303 303 38  Male   Cleveland non-anginal     138      175  FALSE normal        \n",
       "304 304 28  Male   Cleveland atypical angina 130      132  FALSE lv hypertrophy\n",
       "    thalch exang oldpeak slope       ca thal              num\n",
       "1   150    FALSE 2.3     downsloping 0  fixed defect      0  \n",
       "2   108     TRUE 1.5     flat        3  normal            2  \n",
       "3   129     TRUE 2.6     flat        2  reversable defect 1  \n",
       "⋮   ⋮      ⋮     ⋮       ⋮           ⋮  ⋮                 ⋮  \n",
       "302 174    FALSE 0       flat         1 normal            1  \n",
       "303 173    FALSE 0       upsloping   NA normal            0  \n",
       "304 185    FALSE 0       NA          NA NA                0  "
      ]
     },
     "metadata": {},
     "output_type": "display_data"
    }
   ],
   "source": [
    "cleveland_heart <- heart |>\n",
    "filter(dataset == \"Cleveland\")\n",
    "cleveland_heart"
   ]
  },
  {
   "cell_type": "markdown",
   "id": "dc5f7c5f-7fe2-4971-9da2-203586c9b3ee",
   "metadata": {},
   "source": [
    "We need to change the predicted variable (num) to a factor with more understandable labels. From the information presented in the dataset..."
   ]
  },
  {
   "cell_type": "code",
   "execution_count": null,
   "id": "ec8c3e44-420d-429e-a0ef-49228e46e523",
   "metadata": {},
   "outputs": [],
   "source": []
  }
 ],
 "metadata": {
  "kernelspec": {
   "display_name": "R",
   "language": "R",
   "name": "ir"
  },
  "language_info": {
   "codemirror_mode": "r",
   "file_extension": ".r",
   "mimetype": "text/x-r-source",
   "name": "R",
   "pygments_lexer": "r",
   "version": "4.3.1"
  }
 },
 "nbformat": 4,
 "nbformat_minor": 5
}
