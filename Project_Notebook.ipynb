{
 "cells": [
  {
   "cell_type": "markdown",
   "id": "94467e76",
   "metadata": {},
   "source": [
    "# KNN Classification-based Prediction of Heart Disease Diagnoses"
   ]
  },
  {
   "cell_type": "markdown",
   "id": "258a927e",
   "metadata": {},
   "source": [
    "## Introduction\n",
    "Heart disease is a significant global health concern; it is the *leading cause of death globally*. To address this issue effectively, it is vital to develop accurate diagnostic tools. Fortunately, there are many patient attributes that could serve as indicators or possible warning signs for heart disease, which could accelerate the process of diagnosis and treatment. In this project, we will employ classification techniques to predict the diagnosis of heart disease based on a few of these attributes.\n",
    "\n",
    "**Research question:** Will a patient be diagnosed with heart disease, given their age, resting blood pressure, cholesterol levels, and maximum heart rate achieved, while considering sex differences?\n",
    "\n",
    "The dataset we will use to answer this question is the UCI Heart Disease dataset, which comprises multivariate numerical and categorical data on 14 patient attributes. These include age, sex, chest pain type, etc. along with the patient's diagnosis. For this project, we will focus on a subset of attributes: \n",
    "- age\n",
    "- resting blood pressure\n",
    "- serum cholesterol\n",
    "- maximum heart rate achieved\n",
    "\n",
    "to predict the diagnosis of heart disease. We will filter the dataset to include only records from the Cleveland location to ensure consistency and relevance. By the end of this project, we aim to develop accurate predictive models for diagnosing heart disease based on patient attributes."
   ]
  },
  {
   "cell_type": "markdown",
   "id": "4a343b91",
   "metadata": {},
   "source": [
    "## Exploratory data analysis"
   ]
  },
  {
   "cell_type": "code",
   "execution_count": null,
   "id": "b71433b6",
   "metadata": {},
   "outputs": [],
   "source": [
    "# Run this cell before continuing\n",
    "library(tidyverse)\n",
    "library(repr)\n",
    "library(tidymodels)\n",
    "library(RColorBrewer)\n",
    "options(repr.matrix.max.rows = 5)\n",
    "set.seed(69)"
   ]
  },
  {
   "cell_type": "code",
   "execution_count": null,
   "id": "6737bdcf",
   "metadata": {},
   "outputs": [],
   "source": [
    "heart <- read_csv(\"https://raw.githubusercontent.com/chiefpat450119/dsci-project/main/data/heart_disease_uci.csv\")"
   ]
  },
  {
   "cell_type": "markdown",
   "id": "623212e2",
   "metadata": {},
   "source": [
    "We then filter the data to look at **only one location (Cleveland)** to reduce the effect of possible confounding variables introduced by the local environment."
   ]
  },
  {
   "cell_type": "code",
   "execution_count": null,
   "id": "c9270af3",
   "metadata": {},
   "outputs": [],
   "source": [
    "cleveland_heart <- heart |>\n",
    "filter(dataset == \"Cleveland\")"
   ]
  },
  {
   "cell_type": "markdown",
   "id": "91259841",
   "metadata": {},
   "source": [
    "In order to use classification, we need to change the predicted variable (num) to a *factor* with more understandable levels. From the information presented in the dataset, num = 0 represents absence of disease, while num = 1, 2, 3, 4 represent stages of heart disease. The refactoring will be done based on the following interpretation:\n",
    "- 0 = \"absent\"\n",
    "- 1 = \"mild\"\n",
    "- 2 = \"moderate\"\n",
    "- 3 = \"severe\"\n",
    "- 4 = \"critical\""
   ]
  },
  {
   "cell_type": "code",
   "execution_count": null,
   "id": "7aaaa562",
   "metadata": {},
   "outputs": [],
   "source": [
    "heart_refactored <- cleveland_heart |>\n",
    "mutate(disease = as_factor(num)) |>\n",
    "mutate(disease = fct_recode(disease, \"absent\" = \"0\", \"mild\" = \"1\", \"moderate\" = \"2\", \"severe\" = \"3\", \"critical\" = \"4\"))\n",
    "heart_refactored"
   ]
  },
  {
   "cell_type": "markdown",
   "id": "e3e6f9fe",
   "metadata": {},
   "source": [
    "The data is already in a tidy format. We now split the data into a training and a testing set, making sure there are equal ratios of each disease classification in both sets. Let's take a look at how many cases are in each disease class, and then break it down by sex."
   ]
  },
  {
   "cell_type": "code",
   "execution_count": null,
   "id": "1ecfa821",
   "metadata": {},
   "outputs": [],
   "source": [
    "heart_split <- initial_split(heart_refactored, prop = 0.75, strata = disease)  \n",
    "heart_train <- training(heart_split)   \n",
    "heart_test <- testing(heart_split)"
   ]
  },
  {
   "cell_type": "code",
   "execution_count": null,
   "id": "afd96d95",
   "metadata": {},
   "outputs": [],
   "source": [
    "heart_train_summary <- heart_train |>\n",
    "group_by(disease) |>\n",
    "summarize(count = n())\n",
    "heart_train_summary"
   ]
  },
  {
   "cell_type": "code",
   "execution_count": null,
   "id": "adbe9da0",
   "metadata": {},
   "outputs": [],
   "source": [
    "options(repr.matrix.max.rows = 10)\n",
    "heart_train_split <- heart_train |>\n",
    "group_by(disease, sex) |>\n",
    "summarize(count = n())\n",
    "heart_train_split"
   ]
  },
  {
   "cell_type": "markdown",
   "id": "4b18c2aa",
   "metadata": {},
   "source": [
    "There is a difference in the distribution of cases between male and female patients. There is a **significantly greater proportion** of patients in the disease classes for male patients. This will need to be kept in mind for our analysis. \n",
    "\n",
    "Some disease classes have **very few observations,** especially for female patients. This will make it hard to train a useful classification model. Thus, let's **combine all the disease classes into one**:"
   ]
  },
  {
   "cell_type": "code",
   "execution_count": null,
   "id": "83d7bfb8-0d35-4df7-8bb9-740733baf3a1",
   "metadata": {},
   "outputs": [],
   "source": [
    "options(repr.matrix.max.rows = 5)\n",
    "heart_train <- mutate(heart_train, disease = case_when(disease == \"absent\" ~ \"absent\", TRUE ~ \"present\"))\n",
    "heart_test <- mutate(heart_test, disease = case_when(disease == \"absent\" ~ \"absent\", TRUE ~ \"present\"))\n",
    "heart_train"
   ]
  },
  {
   "cell_type": "markdown",
   "id": "d94de2de-00bd-4b60-91b4-ebba7ca75b75",
   "metadata": {},
   "source": [
    "Let's see how many missing values there are for each predictor."
   ]
  },
  {
   "cell_type": "code",
   "execution_count": null,
   "id": "08086f02-8da8-4ed0-b2f1-210a51d06c52",
   "metadata": {},
   "outputs": [],
   "source": [
    "missing <- enframe(colSums(is.na(heart_train))) |>\n",
    "pivot_wider(names_from = \"name\", values_from = \"value\")\n",
    "missing"
   ]
  },
  {
   "cell_type": "markdown",
   "id": "30512964-f50f-46a8-a5a4-85d6cc51aa6e",
   "metadata": {},
   "source": [
    "### Selected predictors\n",
    "- Age\n",
    "- Resting blood pressure (trestbps)\n",
    "- Serum cholesterol (chol)\n",
    "- Maximum heart rate achieved (thalch)"
   ]
  },
  {
   "cell_type": "code",
   "execution_count": null,
   "id": "f893a01e-dd7f-4dd7-a15e-28fff41ad332",
   "metadata": {
    "editable": true,
    "slideshow": {
     "slide_type": ""
    },
    "tags": []
   },
   "outputs": [],
   "source": [
    "# Let's look at how two of predictor variables correlate with heart disease.\n",
    "heart_age_bp_plot <- heart_train |>\n",
    "  ggplot(aes(x = age, y = trestbps, color = disease)) +\n",
    "  geom_point(alpha = 0.6) + \n",
    "  labs(x = \"Age (years)\", y = \"Resting Blood Pressure (mmHg)\", color = \"Disease Diagnosis\") +\n",
    "  ggtitle(\"Figure 1: Relationship between Resting Blood Pressure & Age\") +\n",
    "  theme(\n",
    "    plot.title = element_text(size = 16),  # Adjust title size\n",
    "    axis.title = element_text(size = 14),  # Adjust axis label size\n",
    "    legend.title = element_text(size = 14) # Adjust legend title size\n",
    "  ) +\n",
    "  facet_grid(cols = (vars(sex)))\n",
    "\n",
    "heart_age_bp_plot"
   ]
  },
  {
   "cell_type": "code",
   "execution_count": null,
   "id": "d24e99ae-3d3b-4690-bb76-31666ccae372",
   "metadata": {},
   "outputs": [],
   "source": [
    "# Now the other two predictor variables\n",
    "heart_chol_hr_plot <- ggplot(heart_train, aes(x = chol, y = thalch, color = disease)) + \n",
    "  geom_point(alpha = 0.6) + \n",
    "  labs(x = \"Cholesterol Level (mg/dL)\",  # Including unit\n",
    "       y = \"Maximum Heart Rate (bpm)\", \n",
    "       color = \"Disease diagnosis\") + \n",
    "  ggtitle(\"Relationship between Maximum Heart Rate & Cholesterol Level\") +\n",
    "  theme(\n",
    "    plot.title = element_text(size = 16),  # Adjust title size\n",
    "    axis.title = element_text(size = 14),  # Adjust axis label size\n",
    "    legend.title = element_text(size = 14) # Adjust legend title size\n",
    "  ) +\n",
    "  facet_grid(cols = (vars(sex)))\n",
    "heart_chol_hr_plot"
   ]
  },
  {
   "cell_type": "markdown",
   "id": "33ca3e29-b8df-46ac-9227-9cd4102ffbf6",
   "metadata": {},
   "source": [
    "# Methods\n",
    "To build a model for predicting the diagnosis of heart disease, we will follow the outlined approach.\n",
    "\n",
    "In the data preprocessing phase, we will focus on filtering the dataset to include only observations from the Cleveland area, aiming to reduce potential confounding variables introduced by regional differences. Then, we will select the following predictors: age, resting blood pressure, cholesterol, and maximum heart rate.  \n",
    "These were chosen because they are numerical variables, which are much more useful than the other categorical variables for KNN classification, and they also do not have any missing data. The disease classes will be combined into one because some of the original classes had too few observations to use classification effectively.\n",
    "\n",
    "For model fitting and evaluation, we will split the dataset into training and testing sets, separately for male and female, due to the notable sex differences in diagnoses and predictor variables (see graphs above). We will be training a K-nearest neighbours classification model. The model will be trained on the training set, using cross-validation to choose the optimal value of K, then evaluated on the testing set using accuracy, precision, and recall. Recall will be prioritized because false negative predictions (classifying disease \"present\" as \"absent\") are more costly. This evaluation process will be conducted separately for male and female categories to account for sex-specific variations.\n",
    "\n",
    "We will visualize our findings by creating four scatter plots with the **training data**, each representing a unique combination of variables. For each sex, we will plot blood pressure against age and maximum heart rate against cholesterol, colouring points by the patient's predicted diagnosis. The plot background will be coloured according to the predicted class at each point. This can be done for several values of K during the cross-validation to assess under- or over-fitting. These scatter plots will serve to identify any discernible patterns or correlations between the selected variables and heart disease diagnosis, facilitating the interpretation of our predictive models.  \n",
    "\n",
    "We will also visualize the accuracy, precision, and recall when the model is evaluated on the **test data** using bar charts, along with bar charts visualizing the confusion matrix (true positives, false positives, etc.) for each sex.\n",
    "\n",
    "### Criteria for Methods and Results\n",
    "- describe in written English the methods you used to perform your analysis from beginning to end that narrates the code the does the analysis.\n",
    "- your report should include code which\n",
    "- \n",
    "loads data from the original source on the eb\n",
    "- \r\n",
    "wrangles and cleans the data from it's original (downloaded) format to the format necessary for the planned anasis\n",
    "- s\r\n",
    "performs a summary of the data set that is relevant for exploratory data analysis related to the planned aysis\n",
    "- s \r\n",
    "creates a visualization of the dataset that is relevant for exploratory data analysis related to the plannedlysis\n",
    "- sis\r\n",
    "performs the daalysis\n",
    "- ysis\r\n",
    "creates a visualization ofnae a\n",
    "-\n",
    "- ysis \r\n",
    "note: all tables and figure should have a figure/table number and a legend"
   ]
  },
  {
   "cell_type": "markdown",
   "id": "85623a8f",
   "metadata": {},
   "source": [
    "## Expected outcomes and significance\n",
    "Based on the outlined methods, we expect to find predictive models capable of accurately diagnosing heart disease based on patient attributes like age, blood pressure, cholesterol, and maximum heart rate achieved. Such findings could lead to improved early detection and treatment, potentially reducing the burden of heart disease globally. Future questions may explore the effectiveness of these models across different demographics, as well as their integration into clinical practice for better patient outcomes."
   ]
  },
  {
   "cell_type": "markdown",
   "id": "9789d76b-dfb5-460e-8ce1-afae84d9f730",
   "metadata": {
    "editable": true,
    "slideshow": {
     "slide_type": ""
    },
    "tags": []
   },
   "source": [
    "## Data Analysis"
   ]
  },
  {
   "cell_type": "code",
   "execution_count": null,
   "id": "5afcb410-e257-4c6c-bad2-080f1a48564a",
   "metadata": {},
   "outputs": [],
   "source": [
    "# Split into training and testing for both male and female\n",
    "# Perform cross-validation to choose K for both male and female\n",
    "# Analyse performance (precision and recall?) Decide which is most important\n",
    "# Visualise predictions\n",
    "# Predict on the testing set using the optimal value of K for both male and female\n",
    "# Visualise metrics and results on the test data"
   ]
  },
  {
   "cell_type": "markdown",
   "id": "82564a98-dafb-4296-9081-5438e96e0720",
   "metadata": {},
   "source": [
    "## Discussion\n",
    "- summarize what you found\n",
    "- discuss whether this is what you expected to find\n",
    "- \n",
    "discuss what impact could such findings hae?\n",
    "- \r\n",
    "discuss what future questions could this lead to?"
   ]
  },
  {
   "cell_type": "markdown",
   "id": "4b366e6c-32e7-441d-b4ae-a7c5be9076df",
   "metadata": {},
   "source": [
    "## References\n",
    "- At least 2 citations of literature relevant to the project (format is your choice, just be consistent across the references).\n",
    "- \n",
    "Make sure to cite the source of your data as well."
   ]
  }
 ],
 "metadata": {
  "kernelspec": {
   "display_name": "R",
   "language": "R",
   "name": "ir"
  },
  "language_info": {
   "codemirror_mode": "r",
   "file_extension": ".r",
   "mimetype": "text/x-r-source",
   "name": "R",
   "pygments_lexer": "r",
   "version": "4.3.1"
  }
 },
 "nbformat": 4,
 "nbformat_minor": 5
}
