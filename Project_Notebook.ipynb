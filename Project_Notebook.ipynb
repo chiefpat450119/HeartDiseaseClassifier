{
 "cells": [
  {
   "cell_type": "markdown",
   "id": "fd6c6c15-1239-4a23-b869-00ebc0fbb205",
   "metadata": {},
   "source": [
    "# Classification-based prediction of heart disease diagnoses"
   ]
  },
  {
   "cell_type": "markdown",
   "id": "c20830b7-3aee-432c-bfa9-6b34012054e9",
   "metadata": {},
   "source": [
    "## Introduction\n",
    "Heart disease is a significant global health concern, contributing to a substantial number of deaths each year. To address this issue effectively, it's crucial to develop accurate diagnostic tools.  In this project, we will employ classification techniques to predict the diagnosis of heart disease based on a variety of patient attributes.\n",
    "\n",
    "**Research question:** Can we predict the diagnosis of heart disease based on patient attributes such as age, resting blood pressure, serum cholesterol levels, and fasting blood sugar, while considering sex differences?\n",
    "\n",
    "The dataset we will utilize is the UCI Heart Disease dataset, which comprises multivariate numerical data on various attributes of patients. It consists of 14 key attributes, including age, sex, chest pain type, resting blood pressure, serum cholesterol, fasting blood sugar, resting electrocardiographic results, maximum heart rate achieved, exercise-induced angina, ST depression induced by exercise, the slope of the peak exercise ST segment, number of major vessels, and Thalassemia. For this project, we will focus on a subset of attributes, including age, resting blood pressure, serum cholesterol, and fasting blood sugar, to predict the diagnosis of heart disease. We will filter the dataset to include only records from the Cleveland study origin to ensure consistency and relevance. By the end of this project, we aim to develop accurate predictive models for diagnosing heart disease based on patient attributes."
   ]
  },
  {
   "cell_type": "markdown",
   "id": "c2af22dc-da92-4800-a9af-440e2a879c65",
   "metadata": {},
   "source": [
    "## Exploratory data analysis"
   ]
  },
  {
   "cell_type": "code",
   "execution_count": 1,
   "id": "0ab5b6c2-cef7-4ac3-a004-1f150b79bb85",
   "metadata": {},
   "outputs": [
    {
     "name": "stderr",
     "output_type": "stream",
     "text": [
      "── \u001b[1mAttaching core tidyverse packages\u001b[22m ──────────────────────── tidyverse 2.0.0 ──\n",
      "\u001b[32m✔\u001b[39m \u001b[34mdplyr    \u001b[39m 1.1.3     \u001b[32m✔\u001b[39m \u001b[34mreadr    \u001b[39m 2.1.4\n",
      "\u001b[32m✔\u001b[39m \u001b[34mforcats  \u001b[39m 1.0.0     \u001b[32m✔\u001b[39m \u001b[34mstringr  \u001b[39m 1.5.0\n",
      "\u001b[32m✔\u001b[39m \u001b[34mggplot2  \u001b[39m 3.4.4     \u001b[32m✔\u001b[39m \u001b[34mtibble   \u001b[39m 3.2.1\n",
      "\u001b[32m✔\u001b[39m \u001b[34mlubridate\u001b[39m 1.9.3     \u001b[32m✔\u001b[39m \u001b[34mtidyr    \u001b[39m 1.3.0\n",
      "\u001b[32m✔\u001b[39m \u001b[34mpurrr    \u001b[39m 1.0.2     \n",
      "── \u001b[1mConflicts\u001b[22m ────────────────────────────────────────── tidyverse_conflicts() ──\n",
      "\u001b[31m✖\u001b[39m \u001b[34mdplyr\u001b[39m::\u001b[32mfilter()\u001b[39m masks \u001b[34mstats\u001b[39m::filter()\n",
      "\u001b[31m✖\u001b[39m \u001b[34mdplyr\u001b[39m::\u001b[32mlag()\u001b[39m    masks \u001b[34mstats\u001b[39m::lag()\n",
      "\u001b[36mℹ\u001b[39m Use the conflicted package (\u001b[3m\u001b[34m<http://conflicted.r-lib.org/>\u001b[39m\u001b[23m) to force all conflicts to become errors\n",
      "── \u001b[1mAttaching packages\u001b[22m ────────────────────────────────────── tidymodels 1.1.1 ──\n",
      "\n",
      "\u001b[32m✔\u001b[39m \u001b[34mbroom       \u001b[39m 1.0.5     \u001b[32m✔\u001b[39m \u001b[34mrsample     \u001b[39m 1.2.0\n",
      "\u001b[32m✔\u001b[39m \u001b[34mdials       \u001b[39m 1.2.0     \u001b[32m✔\u001b[39m \u001b[34mtune        \u001b[39m 1.1.2\n",
      "\u001b[32m✔\u001b[39m \u001b[34minfer       \u001b[39m 1.0.5     \u001b[32m✔\u001b[39m \u001b[34mworkflows   \u001b[39m 1.1.3\n",
      "\u001b[32m✔\u001b[39m \u001b[34mmodeldata   \u001b[39m 1.2.0     \u001b[32m✔\u001b[39m \u001b[34mworkflowsets\u001b[39m 1.0.1\n",
      "\u001b[32m✔\u001b[39m \u001b[34mparsnip     \u001b[39m 1.1.1     \u001b[32m✔\u001b[39m \u001b[34myardstick   \u001b[39m 1.2.0\n",
      "\u001b[32m✔\u001b[39m \u001b[34mrecipes     \u001b[39m 1.0.8     \n",
      "\n",
      "── \u001b[1mConflicts\u001b[22m ───────────────────────────────────────── tidymodels_conflicts() ──\n",
      "\u001b[31m✖\u001b[39m \u001b[34mscales\u001b[39m::\u001b[32mdiscard()\u001b[39m masks \u001b[34mpurrr\u001b[39m::discard()\n",
      "\u001b[31m✖\u001b[39m \u001b[34mdplyr\u001b[39m::\u001b[32mfilter()\u001b[39m   masks \u001b[34mstats\u001b[39m::filter()\n",
      "\u001b[31m✖\u001b[39m \u001b[34mrecipes\u001b[39m::\u001b[32mfixed()\u001b[39m  masks \u001b[34mstringr\u001b[39m::fixed()\n",
      "\u001b[31m✖\u001b[39m \u001b[34mdplyr\u001b[39m::\u001b[32mlag()\u001b[39m      masks \u001b[34mstats\u001b[39m::lag()\n",
      "\u001b[31m✖\u001b[39m \u001b[34myardstick\u001b[39m::\u001b[32mspec()\u001b[39m masks \u001b[34mreadr\u001b[39m::spec()\n",
      "\u001b[31m✖\u001b[39m \u001b[34mrecipes\u001b[39m::\u001b[32mstep()\u001b[39m   masks \u001b[34mstats\u001b[39m::step()\n",
      "\u001b[34m•\u001b[39m Use suppressPackageStartupMessages() to eliminate package startup messages\n",
      "\n"
     ]
    }
   ],
   "source": [
    "# Run this cell before continuing\n",
    "library(tidyverse)\n",
    "library(repr)\n",
    "library(tidymodels)\n",
    "options(repr.matrix.max.rows = 6)\n",
    "set.seed(69)"
   ]
  },
  {
   "cell_type": "code",
   "execution_count": 2,
   "id": "96990eca-6c4a-4eb4-b82a-a22fad7a5b8f",
   "metadata": {},
   "outputs": [
    {
     "name": "stderr",
     "output_type": "stream",
     "text": [
      "\u001b[1mRows: \u001b[22m\u001b[34m920\u001b[39m \u001b[1mColumns: \u001b[22m\u001b[34m16\u001b[39m\n",
      "\u001b[36m──\u001b[39m \u001b[1mColumn specification\u001b[22m \u001b[36m────────────────────────────────────────────────────────\u001b[39m\n",
      "\u001b[1mDelimiter:\u001b[22m \",\"\n",
      "\u001b[31mchr\u001b[39m (6): sex, dataset, cp, restecg, slope, thal\n",
      "\u001b[32mdbl\u001b[39m (8): id, age, trestbps, chol, thalch, oldpeak, ca, num\n",
      "\u001b[33mlgl\u001b[39m (2): fbs, exang\n",
      "\n",
      "\u001b[36mℹ\u001b[39m Use `spec()` to retrieve the full column specification for this data.\n",
      "\u001b[36mℹ\u001b[39m Specify the column types or set `show_col_types = FALSE` to quiet this message.\n"
     ]
    },
    {
     "data": {
      "text/html": [
       "<table class=\"dataframe\">\n",
       "<caption>A tibble: 6 × 16</caption>\n",
       "<thead>\n",
       "\t<tr><th scope=col>id</th><th scope=col>age</th><th scope=col>sex</th><th scope=col>dataset</th><th scope=col>cp</th><th scope=col>trestbps</th><th scope=col>chol</th><th scope=col>fbs</th><th scope=col>restecg</th><th scope=col>thalch</th><th scope=col>exang</th><th scope=col>oldpeak</th><th scope=col>slope</th><th scope=col>ca</th><th scope=col>thal</th><th scope=col>num</th></tr>\n",
       "\t<tr><th scope=col>&lt;dbl&gt;</th><th scope=col>&lt;dbl&gt;</th><th scope=col>&lt;chr&gt;</th><th scope=col>&lt;chr&gt;</th><th scope=col>&lt;chr&gt;</th><th scope=col>&lt;dbl&gt;</th><th scope=col>&lt;dbl&gt;</th><th scope=col>&lt;lgl&gt;</th><th scope=col>&lt;chr&gt;</th><th scope=col>&lt;dbl&gt;</th><th scope=col>&lt;lgl&gt;</th><th scope=col>&lt;dbl&gt;</th><th scope=col>&lt;chr&gt;</th><th scope=col>&lt;dbl&gt;</th><th scope=col>&lt;chr&gt;</th><th scope=col>&lt;dbl&gt;</th></tr>\n",
       "</thead>\n",
       "<tbody>\n",
       "\t<tr><td>1</td><td>63</td><td>Male  </td><td>Cleveland</td><td>typical angina </td><td>145</td><td>233</td><td> TRUE</td><td>lv hypertrophy</td><td>150</td><td>FALSE</td><td>2.3</td><td>downsloping</td><td>0</td><td>fixed defect     </td><td>0</td></tr>\n",
       "\t<tr><td>2</td><td>67</td><td>Male  </td><td>Cleveland</td><td>asymptomatic   </td><td>160</td><td>286</td><td>FALSE</td><td>lv hypertrophy</td><td>108</td><td> TRUE</td><td>1.5</td><td>flat       </td><td>3</td><td>normal           </td><td>2</td></tr>\n",
       "\t<tr><td>3</td><td>67</td><td>Male  </td><td>Cleveland</td><td>asymptomatic   </td><td>120</td><td>229</td><td>FALSE</td><td>lv hypertrophy</td><td>129</td><td> TRUE</td><td>2.6</td><td>flat       </td><td>2</td><td>reversable defect</td><td>1</td></tr>\n",
       "\t<tr><td>4</td><td>37</td><td>Male  </td><td>Cleveland</td><td>non-anginal    </td><td>130</td><td>250</td><td>FALSE</td><td>normal        </td><td>187</td><td>FALSE</td><td>3.5</td><td>downsloping</td><td>0</td><td>normal           </td><td>0</td></tr>\n",
       "\t<tr><td>5</td><td>41</td><td>Female</td><td>Cleveland</td><td>atypical angina</td><td>130</td><td>204</td><td>FALSE</td><td>lv hypertrophy</td><td>172</td><td>FALSE</td><td>1.4</td><td>upsloping  </td><td>0</td><td>normal           </td><td>0</td></tr>\n",
       "\t<tr><td>6</td><td>56</td><td>Male  </td><td>Cleveland</td><td>atypical angina</td><td>120</td><td>236</td><td>FALSE</td><td>normal        </td><td>178</td><td>FALSE</td><td>0.8</td><td>upsloping  </td><td>0</td><td>normal           </td><td>0</td></tr>\n",
       "</tbody>\n",
       "</table>\n"
      ],
      "text/latex": [
       "A tibble: 6 × 16\n",
       "\\begin{tabular}{llllllllllllllll}\n",
       " id & age & sex & dataset & cp & trestbps & chol & fbs & restecg & thalch & exang & oldpeak & slope & ca & thal & num\\\\\n",
       " <dbl> & <dbl> & <chr> & <chr> & <chr> & <dbl> & <dbl> & <lgl> & <chr> & <dbl> & <lgl> & <dbl> & <chr> & <dbl> & <chr> & <dbl>\\\\\n",
       "\\hline\n",
       "\t 1 & 63 & Male   & Cleveland & typical angina  & 145 & 233 &  TRUE & lv hypertrophy & 150 & FALSE & 2.3 & downsloping & 0 & fixed defect      & 0\\\\\n",
       "\t 2 & 67 & Male   & Cleveland & asymptomatic    & 160 & 286 & FALSE & lv hypertrophy & 108 &  TRUE & 1.5 & flat        & 3 & normal            & 2\\\\\n",
       "\t 3 & 67 & Male   & Cleveland & asymptomatic    & 120 & 229 & FALSE & lv hypertrophy & 129 &  TRUE & 2.6 & flat        & 2 & reversable defect & 1\\\\\n",
       "\t 4 & 37 & Male   & Cleveland & non-anginal     & 130 & 250 & FALSE & normal         & 187 & FALSE & 3.5 & downsloping & 0 & normal            & 0\\\\\n",
       "\t 5 & 41 & Female & Cleveland & atypical angina & 130 & 204 & FALSE & lv hypertrophy & 172 & FALSE & 1.4 & upsloping   & 0 & normal            & 0\\\\\n",
       "\t 6 & 56 & Male   & Cleveland & atypical angina & 120 & 236 & FALSE & normal         & 178 & FALSE & 0.8 & upsloping   & 0 & normal            & 0\\\\\n",
       "\\end{tabular}\n"
      ],
      "text/markdown": [
       "\n",
       "A tibble: 6 × 16\n",
       "\n",
       "| id &lt;dbl&gt; | age &lt;dbl&gt; | sex &lt;chr&gt; | dataset &lt;chr&gt; | cp &lt;chr&gt; | trestbps &lt;dbl&gt; | chol &lt;dbl&gt; | fbs &lt;lgl&gt; | restecg &lt;chr&gt; | thalch &lt;dbl&gt; | exang &lt;lgl&gt; | oldpeak &lt;dbl&gt; | slope &lt;chr&gt; | ca &lt;dbl&gt; | thal &lt;chr&gt; | num &lt;dbl&gt; |\n",
       "|---|---|---|---|---|---|---|---|---|---|---|---|---|---|---|---|\n",
       "| 1 | 63 | Male   | Cleveland | typical angina  | 145 | 233 |  TRUE | lv hypertrophy | 150 | FALSE | 2.3 | downsloping | 0 | fixed defect      | 0 |\n",
       "| 2 | 67 | Male   | Cleveland | asymptomatic    | 160 | 286 | FALSE | lv hypertrophy | 108 |  TRUE | 1.5 | flat        | 3 | normal            | 2 |\n",
       "| 3 | 67 | Male   | Cleveland | asymptomatic    | 120 | 229 | FALSE | lv hypertrophy | 129 |  TRUE | 2.6 | flat        | 2 | reversable defect | 1 |\n",
       "| 4 | 37 | Male   | Cleveland | non-anginal     | 130 | 250 | FALSE | normal         | 187 | FALSE | 3.5 | downsloping | 0 | normal            | 0 |\n",
       "| 5 | 41 | Female | Cleveland | atypical angina | 130 | 204 | FALSE | lv hypertrophy | 172 | FALSE | 1.4 | upsloping   | 0 | normal            | 0 |\n",
       "| 6 | 56 | Male   | Cleveland | atypical angina | 120 | 236 | FALSE | normal         | 178 | FALSE | 0.8 | upsloping   | 0 | normal            | 0 |\n",
       "\n"
      ],
      "text/plain": [
       "  id age sex    dataset   cp              trestbps chol fbs   restecg       \n",
       "1 1  63  Male   Cleveland typical angina  145      233   TRUE lv hypertrophy\n",
       "2 2  67  Male   Cleveland asymptomatic    160      286  FALSE lv hypertrophy\n",
       "3 3  67  Male   Cleveland asymptomatic    120      229  FALSE lv hypertrophy\n",
       "4 4  37  Male   Cleveland non-anginal     130      250  FALSE normal        \n",
       "5 5  41  Female Cleveland atypical angina 130      204  FALSE lv hypertrophy\n",
       "6 6  56  Male   Cleveland atypical angina 120      236  FALSE normal        \n",
       "  thalch exang oldpeak slope       ca thal              num\n",
       "1 150    FALSE 2.3     downsloping 0  fixed defect      0  \n",
       "2 108     TRUE 1.5     flat        3  normal            2  \n",
       "3 129     TRUE 2.6     flat        2  reversable defect 1  \n",
       "4 187    FALSE 3.5     downsloping 0  normal            0  \n",
       "5 172    FALSE 1.4     upsloping   0  normal            0  \n",
       "6 178    FALSE 0.8     upsloping   0  normal            0  "
      ]
     },
     "metadata": {},
     "output_type": "display_data"
    }
   ],
   "source": [
    "heart <- read_csv(\"data/heart_disease_uci.csv\")\n",
    "head(heart)"
   ]
  },
  {
   "cell_type": "markdown",
   "id": "147e3e70-6b09-4c06-8bff-bd0edeaf5411",
   "metadata": {},
   "source": [
    "We then filter the data to look at **only one location (Cleveland)** to reduce the effect of possible confounding variables introduced by the local environment."
   ]
  },
  {
   "cell_type": "code",
   "execution_count": 3,
   "id": "014917f1-126c-425c-9442-2563256b52ed",
   "metadata": {},
   "outputs": [
    {
     "data": {
      "text/html": [
       "<table class=\"dataframe\">\n",
       "<caption>A spec_tbl_df: 304 × 16</caption>\n",
       "<thead>\n",
       "\t<tr><th scope=col>id</th><th scope=col>age</th><th scope=col>sex</th><th scope=col>dataset</th><th scope=col>cp</th><th scope=col>trestbps</th><th scope=col>chol</th><th scope=col>fbs</th><th scope=col>restecg</th><th scope=col>thalch</th><th scope=col>exang</th><th scope=col>oldpeak</th><th scope=col>slope</th><th scope=col>ca</th><th scope=col>thal</th><th scope=col>num</th></tr>\n",
       "\t<tr><th scope=col>&lt;dbl&gt;</th><th scope=col>&lt;dbl&gt;</th><th scope=col>&lt;chr&gt;</th><th scope=col>&lt;chr&gt;</th><th scope=col>&lt;chr&gt;</th><th scope=col>&lt;dbl&gt;</th><th scope=col>&lt;dbl&gt;</th><th scope=col>&lt;lgl&gt;</th><th scope=col>&lt;chr&gt;</th><th scope=col>&lt;dbl&gt;</th><th scope=col>&lt;lgl&gt;</th><th scope=col>&lt;dbl&gt;</th><th scope=col>&lt;chr&gt;</th><th scope=col>&lt;dbl&gt;</th><th scope=col>&lt;chr&gt;</th><th scope=col>&lt;dbl&gt;</th></tr>\n",
       "</thead>\n",
       "<tbody>\n",
       "\t<tr><td>1</td><td>63</td><td>Male</td><td>Cleveland</td><td>typical angina</td><td>145</td><td>233</td><td> TRUE</td><td>lv hypertrophy</td><td>150</td><td>FALSE</td><td>2.3</td><td>downsloping</td><td>0</td><td>fixed defect     </td><td>0</td></tr>\n",
       "\t<tr><td>2</td><td>67</td><td>Male</td><td>Cleveland</td><td>asymptomatic  </td><td>160</td><td>286</td><td>FALSE</td><td>lv hypertrophy</td><td>108</td><td> TRUE</td><td>1.5</td><td>flat       </td><td>3</td><td>normal           </td><td>2</td></tr>\n",
       "\t<tr><td>3</td><td>67</td><td>Male</td><td>Cleveland</td><td>asymptomatic  </td><td>120</td><td>229</td><td>FALSE</td><td>lv hypertrophy</td><td>129</td><td> TRUE</td><td>2.6</td><td>flat       </td><td>2</td><td>reversable defect</td><td>1</td></tr>\n",
       "\t<tr><td>⋮</td><td>⋮</td><td>⋮</td><td>⋮</td><td>⋮</td><td>⋮</td><td>⋮</td><td>⋮</td><td>⋮</td><td>⋮</td><td>⋮</td><td>⋮</td><td>⋮</td><td>⋮</td><td>⋮</td><td>⋮</td></tr>\n",
       "\t<tr><td>302</td><td>57</td><td>Female</td><td>Cleveland</td><td>atypical angina</td><td>130</td><td>236</td><td>FALSE</td><td>lv hypertrophy</td><td>174</td><td>FALSE</td><td>0</td><td>flat     </td><td> 1</td><td>normal</td><td>1</td></tr>\n",
       "\t<tr><td>303</td><td>38</td><td>Male  </td><td>Cleveland</td><td>non-anginal    </td><td>138</td><td>175</td><td>FALSE</td><td>normal        </td><td>173</td><td>FALSE</td><td>0</td><td>upsloping</td><td>NA</td><td>normal</td><td>0</td></tr>\n",
       "\t<tr><td>304</td><td>28</td><td>Male  </td><td>Cleveland</td><td>atypical angina</td><td>130</td><td>132</td><td>FALSE</td><td>lv hypertrophy</td><td>185</td><td>FALSE</td><td>0</td><td>NA       </td><td>NA</td><td>NA    </td><td>0</td></tr>\n",
       "</tbody>\n",
       "</table>\n"
      ],
      "text/latex": [
       "A spec\\_tbl\\_df: 304 × 16\n",
       "\\begin{tabular}{llllllllllllllll}\n",
       " id & age & sex & dataset & cp & trestbps & chol & fbs & restecg & thalch & exang & oldpeak & slope & ca & thal & num\\\\\n",
       " <dbl> & <dbl> & <chr> & <chr> & <chr> & <dbl> & <dbl> & <lgl> & <chr> & <dbl> & <lgl> & <dbl> & <chr> & <dbl> & <chr> & <dbl>\\\\\n",
       "\\hline\n",
       "\t 1 & 63 & Male & Cleveland & typical angina & 145 & 233 &  TRUE & lv hypertrophy & 150 & FALSE & 2.3 & downsloping & 0 & fixed defect      & 0\\\\\n",
       "\t 2 & 67 & Male & Cleveland & asymptomatic   & 160 & 286 & FALSE & lv hypertrophy & 108 &  TRUE & 1.5 & flat        & 3 & normal            & 2\\\\\n",
       "\t 3 & 67 & Male & Cleveland & asymptomatic   & 120 & 229 & FALSE & lv hypertrophy & 129 &  TRUE & 2.6 & flat        & 2 & reversable defect & 1\\\\\n",
       "\t ⋮ & ⋮ & ⋮ & ⋮ & ⋮ & ⋮ & ⋮ & ⋮ & ⋮ & ⋮ & ⋮ & ⋮ & ⋮ & ⋮ & ⋮ & ⋮\\\\\n",
       "\t 302 & 57 & Female & Cleveland & atypical angina & 130 & 236 & FALSE & lv hypertrophy & 174 & FALSE & 0 & flat      &  1 & normal & 1\\\\\n",
       "\t 303 & 38 & Male   & Cleveland & non-anginal     & 138 & 175 & FALSE & normal         & 173 & FALSE & 0 & upsloping & NA & normal & 0\\\\\n",
       "\t 304 & 28 & Male   & Cleveland & atypical angina & 130 & 132 & FALSE & lv hypertrophy & 185 & FALSE & 0 & NA        & NA & NA     & 0\\\\\n",
       "\\end{tabular}\n"
      ],
      "text/markdown": [
       "\n",
       "A spec_tbl_df: 304 × 16\n",
       "\n",
       "| id &lt;dbl&gt; | age &lt;dbl&gt; | sex &lt;chr&gt; | dataset &lt;chr&gt; | cp &lt;chr&gt; | trestbps &lt;dbl&gt; | chol &lt;dbl&gt; | fbs &lt;lgl&gt; | restecg &lt;chr&gt; | thalch &lt;dbl&gt; | exang &lt;lgl&gt; | oldpeak &lt;dbl&gt; | slope &lt;chr&gt; | ca &lt;dbl&gt; | thal &lt;chr&gt; | num &lt;dbl&gt; |\n",
       "|---|---|---|---|---|---|---|---|---|---|---|---|---|---|---|---|\n",
       "| 1 | 63 | Male | Cleveland | typical angina | 145 | 233 |  TRUE | lv hypertrophy | 150 | FALSE | 2.3 | downsloping | 0 | fixed defect      | 0 |\n",
       "| 2 | 67 | Male | Cleveland | asymptomatic   | 160 | 286 | FALSE | lv hypertrophy | 108 |  TRUE | 1.5 | flat        | 3 | normal            | 2 |\n",
       "| 3 | 67 | Male | Cleveland | asymptomatic   | 120 | 229 | FALSE | lv hypertrophy | 129 |  TRUE | 2.6 | flat        | 2 | reversable defect | 1 |\n",
       "| ⋮ | ⋮ | ⋮ | ⋮ | ⋮ | ⋮ | ⋮ | ⋮ | ⋮ | ⋮ | ⋮ | ⋮ | ⋮ | ⋮ | ⋮ | ⋮ |\n",
       "| 302 | 57 | Female | Cleveland | atypical angina | 130 | 236 | FALSE | lv hypertrophy | 174 | FALSE | 0 | flat      |  1 | normal | 1 |\n",
       "| 303 | 38 | Male   | Cleveland | non-anginal     | 138 | 175 | FALSE | normal         | 173 | FALSE | 0 | upsloping | NA | normal | 0 |\n",
       "| 304 | 28 | Male   | Cleveland | atypical angina | 130 | 132 | FALSE | lv hypertrophy | 185 | FALSE | 0 | NA        | NA | NA     | 0 |\n",
       "\n"
      ],
      "text/plain": [
       "    id  age sex    dataset   cp              trestbps chol fbs   restecg       \n",
       "1   1   63  Male   Cleveland typical angina  145      233   TRUE lv hypertrophy\n",
       "2   2   67  Male   Cleveland asymptomatic    160      286  FALSE lv hypertrophy\n",
       "3   3   67  Male   Cleveland asymptomatic    120      229  FALSE lv hypertrophy\n",
       "⋮   ⋮   ⋮   ⋮      ⋮         ⋮               ⋮        ⋮    ⋮     ⋮             \n",
       "302 302 57  Female Cleveland atypical angina 130      236  FALSE lv hypertrophy\n",
       "303 303 38  Male   Cleveland non-anginal     138      175  FALSE normal        \n",
       "304 304 28  Male   Cleveland atypical angina 130      132  FALSE lv hypertrophy\n",
       "    thalch exang oldpeak slope       ca thal              num\n",
       "1   150    FALSE 2.3     downsloping 0  fixed defect      0  \n",
       "2   108     TRUE 1.5     flat        3  normal            2  \n",
       "3   129     TRUE 2.6     flat        2  reversable defect 1  \n",
       "⋮   ⋮      ⋮     ⋮       ⋮           ⋮  ⋮                 ⋮  \n",
       "302 174    FALSE 0       flat         1 normal            1  \n",
       "303 173    FALSE 0       upsloping   NA normal            0  \n",
       "304 185    FALSE 0       NA          NA NA                0  "
      ]
     },
     "metadata": {},
     "output_type": "display_data"
    }
   ],
   "source": [
    "cleveland_heart <- heart |>\n",
    "filter(dataset == \"Cleveland\")\n",
    "cleveland_heart"
   ]
  },
  {
   "cell_type": "markdown",
   "id": "dc5f7c5f-7fe2-4971-9da2-203586c9b3ee",
   "metadata": {},
   "source": [
    "In order to use classification, we need to change the predicted variable (num) to a factor with more understandable levels. From the information presented in the dataset, num = 0 represents absence of heart disease, while num = 1, 2, 3, 4 represent stages of heart disease. The refactoring will be done based on the following interpretation:\n",
    "- 0 = \"none\"\n",
    "- 1 = \"mild\"\n",
    "- 2 = \"moderate\"\n",
    "- 3 = \"severe\"\n",
    "- 4 = \"critical\""
   ]
  },
  {
   "cell_type": "code",
   "execution_count": 4,
   "id": "ec8c3e44-420d-429e-a0ef-49228e46e523",
   "metadata": {},
   "outputs": [
    {
     "data": {
      "text/html": [
       "<table class=\"dataframe\">\n",
       "<caption>A tibble: 304 × 17</caption>\n",
       "<thead>\n",
       "\t<tr><th scope=col>id</th><th scope=col>age</th><th scope=col>sex</th><th scope=col>dataset</th><th scope=col>cp</th><th scope=col>trestbps</th><th scope=col>chol</th><th scope=col>fbs</th><th scope=col>restecg</th><th scope=col>thalch</th><th scope=col>exang</th><th scope=col>oldpeak</th><th scope=col>slope</th><th scope=col>ca</th><th scope=col>thal</th><th scope=col>num</th><th scope=col>disease</th></tr>\n",
       "\t<tr><th scope=col>&lt;dbl&gt;</th><th scope=col>&lt;dbl&gt;</th><th scope=col>&lt;chr&gt;</th><th scope=col>&lt;chr&gt;</th><th scope=col>&lt;chr&gt;</th><th scope=col>&lt;dbl&gt;</th><th scope=col>&lt;dbl&gt;</th><th scope=col>&lt;lgl&gt;</th><th scope=col>&lt;chr&gt;</th><th scope=col>&lt;dbl&gt;</th><th scope=col>&lt;lgl&gt;</th><th scope=col>&lt;dbl&gt;</th><th scope=col>&lt;chr&gt;</th><th scope=col>&lt;dbl&gt;</th><th scope=col>&lt;chr&gt;</th><th scope=col>&lt;dbl&gt;</th><th scope=col>&lt;fct&gt;</th></tr>\n",
       "</thead>\n",
       "<tbody>\n",
       "\t<tr><td>1</td><td>63</td><td>Male</td><td>Cleveland</td><td>typical angina</td><td>145</td><td>233</td><td> TRUE</td><td>lv hypertrophy</td><td>150</td><td>FALSE</td><td>2.3</td><td>downsloping</td><td>0</td><td>fixed defect     </td><td>0</td><td>none    </td></tr>\n",
       "\t<tr><td>2</td><td>67</td><td>Male</td><td>Cleveland</td><td>asymptomatic  </td><td>160</td><td>286</td><td>FALSE</td><td>lv hypertrophy</td><td>108</td><td> TRUE</td><td>1.5</td><td>flat       </td><td>3</td><td>normal           </td><td>2</td><td>moderate</td></tr>\n",
       "\t<tr><td>3</td><td>67</td><td>Male</td><td>Cleveland</td><td>asymptomatic  </td><td>120</td><td>229</td><td>FALSE</td><td>lv hypertrophy</td><td>129</td><td> TRUE</td><td>2.6</td><td>flat       </td><td>2</td><td>reversable defect</td><td>1</td><td>mild    </td></tr>\n",
       "\t<tr><td>⋮</td><td>⋮</td><td>⋮</td><td>⋮</td><td>⋮</td><td>⋮</td><td>⋮</td><td>⋮</td><td>⋮</td><td>⋮</td><td>⋮</td><td>⋮</td><td>⋮</td><td>⋮</td><td>⋮</td><td>⋮</td><td>⋮</td></tr>\n",
       "\t<tr><td>302</td><td>57</td><td>Female</td><td>Cleveland</td><td>atypical angina</td><td>130</td><td>236</td><td>FALSE</td><td>lv hypertrophy</td><td>174</td><td>FALSE</td><td>0</td><td>flat     </td><td> 1</td><td>normal</td><td>1</td><td>mild</td></tr>\n",
       "\t<tr><td>303</td><td>38</td><td>Male  </td><td>Cleveland</td><td>non-anginal    </td><td>138</td><td>175</td><td>FALSE</td><td>normal        </td><td>173</td><td>FALSE</td><td>0</td><td>upsloping</td><td>NA</td><td>normal</td><td>0</td><td>none</td></tr>\n",
       "\t<tr><td>304</td><td>28</td><td>Male  </td><td>Cleveland</td><td>atypical angina</td><td>130</td><td>132</td><td>FALSE</td><td>lv hypertrophy</td><td>185</td><td>FALSE</td><td>0</td><td>NA       </td><td>NA</td><td>NA    </td><td>0</td><td>none</td></tr>\n",
       "</tbody>\n",
       "</table>\n"
      ],
      "text/latex": [
       "A tibble: 304 × 17\n",
       "\\begin{tabular}{lllllllllllllllll}\n",
       " id & age & sex & dataset & cp & trestbps & chol & fbs & restecg & thalch & exang & oldpeak & slope & ca & thal & num & disease\\\\\n",
       " <dbl> & <dbl> & <chr> & <chr> & <chr> & <dbl> & <dbl> & <lgl> & <chr> & <dbl> & <lgl> & <dbl> & <chr> & <dbl> & <chr> & <dbl> & <fct>\\\\\n",
       "\\hline\n",
       "\t 1 & 63 & Male & Cleveland & typical angina & 145 & 233 &  TRUE & lv hypertrophy & 150 & FALSE & 2.3 & downsloping & 0 & fixed defect      & 0 & none    \\\\\n",
       "\t 2 & 67 & Male & Cleveland & asymptomatic   & 160 & 286 & FALSE & lv hypertrophy & 108 &  TRUE & 1.5 & flat        & 3 & normal            & 2 & moderate\\\\\n",
       "\t 3 & 67 & Male & Cleveland & asymptomatic   & 120 & 229 & FALSE & lv hypertrophy & 129 &  TRUE & 2.6 & flat        & 2 & reversable defect & 1 & mild    \\\\\n",
       "\t ⋮ & ⋮ & ⋮ & ⋮ & ⋮ & ⋮ & ⋮ & ⋮ & ⋮ & ⋮ & ⋮ & ⋮ & ⋮ & ⋮ & ⋮ & ⋮ & ⋮\\\\\n",
       "\t 302 & 57 & Female & Cleveland & atypical angina & 130 & 236 & FALSE & lv hypertrophy & 174 & FALSE & 0 & flat      &  1 & normal & 1 & mild\\\\\n",
       "\t 303 & 38 & Male   & Cleveland & non-anginal     & 138 & 175 & FALSE & normal         & 173 & FALSE & 0 & upsloping & NA & normal & 0 & none\\\\\n",
       "\t 304 & 28 & Male   & Cleveland & atypical angina & 130 & 132 & FALSE & lv hypertrophy & 185 & FALSE & 0 & NA        & NA & NA     & 0 & none\\\\\n",
       "\\end{tabular}\n"
      ],
      "text/markdown": [
       "\n",
       "A tibble: 304 × 17\n",
       "\n",
       "| id &lt;dbl&gt; | age &lt;dbl&gt; | sex &lt;chr&gt; | dataset &lt;chr&gt; | cp &lt;chr&gt; | trestbps &lt;dbl&gt; | chol &lt;dbl&gt; | fbs &lt;lgl&gt; | restecg &lt;chr&gt; | thalch &lt;dbl&gt; | exang &lt;lgl&gt; | oldpeak &lt;dbl&gt; | slope &lt;chr&gt; | ca &lt;dbl&gt; | thal &lt;chr&gt; | num &lt;dbl&gt; | disease &lt;fct&gt; |\n",
       "|---|---|---|---|---|---|---|---|---|---|---|---|---|---|---|---|---|\n",
       "| 1 | 63 | Male | Cleveland | typical angina | 145 | 233 |  TRUE | lv hypertrophy | 150 | FALSE | 2.3 | downsloping | 0 | fixed defect      | 0 | none     |\n",
       "| 2 | 67 | Male | Cleveland | asymptomatic   | 160 | 286 | FALSE | lv hypertrophy | 108 |  TRUE | 1.5 | flat        | 3 | normal            | 2 | moderate |\n",
       "| 3 | 67 | Male | Cleveland | asymptomatic   | 120 | 229 | FALSE | lv hypertrophy | 129 |  TRUE | 2.6 | flat        | 2 | reversable defect | 1 | mild     |\n",
       "| ⋮ | ⋮ | ⋮ | ⋮ | ⋮ | ⋮ | ⋮ | ⋮ | ⋮ | ⋮ | ⋮ | ⋮ | ⋮ | ⋮ | ⋮ | ⋮ | ⋮ |\n",
       "| 302 | 57 | Female | Cleveland | atypical angina | 130 | 236 | FALSE | lv hypertrophy | 174 | FALSE | 0 | flat      |  1 | normal | 1 | mild |\n",
       "| 303 | 38 | Male   | Cleveland | non-anginal     | 138 | 175 | FALSE | normal         | 173 | FALSE | 0 | upsloping | NA | normal | 0 | none |\n",
       "| 304 | 28 | Male   | Cleveland | atypical angina | 130 | 132 | FALSE | lv hypertrophy | 185 | FALSE | 0 | NA        | NA | NA     | 0 | none |\n",
       "\n"
      ],
      "text/plain": [
       "    id  age sex    dataset   cp              trestbps chol fbs   restecg       \n",
       "1   1   63  Male   Cleveland typical angina  145      233   TRUE lv hypertrophy\n",
       "2   2   67  Male   Cleveland asymptomatic    160      286  FALSE lv hypertrophy\n",
       "3   3   67  Male   Cleveland asymptomatic    120      229  FALSE lv hypertrophy\n",
       "⋮   ⋮   ⋮   ⋮      ⋮         ⋮               ⋮        ⋮    ⋮     ⋮             \n",
       "302 302 57  Female Cleveland atypical angina 130      236  FALSE lv hypertrophy\n",
       "303 303 38  Male   Cleveland non-anginal     138      175  FALSE normal        \n",
       "304 304 28  Male   Cleveland atypical angina 130      132  FALSE lv hypertrophy\n",
       "    thalch exang oldpeak slope       ca thal              num disease \n",
       "1   150    FALSE 2.3     downsloping 0  fixed defect      0   none    \n",
       "2   108     TRUE 1.5     flat        3  normal            2   moderate\n",
       "3   129     TRUE 2.6     flat        2  reversable defect 1   mild    \n",
       "⋮   ⋮      ⋮     ⋮       ⋮           ⋮  ⋮                 ⋮   ⋮       \n",
       "302 174    FALSE 0       flat         1 normal            1   mild    \n",
       "303 173    FALSE 0       upsloping   NA normal            0   none    \n",
       "304 185    FALSE 0       NA          NA NA                0   none    "
      ]
     },
     "metadata": {},
     "output_type": "display_data"
    }
   ],
   "source": [
    "heart_refactored <- cleveland_heart |>\n",
    "mutate(disease = as_factor(num)) |>\n",
    "mutate(disease = fct_recode(disease, \"none\" = \"0\", \"mild\" = \"1\", \"moderate\" = \"2\", \"severe\" = \"3\", \"critical\" = \"4\"))\n",
    "heart_refactored"
   ]
  },
  {
   "cell_type": "markdown",
   "id": "a89f9f15-2ca6-4ba6-8bd1-56553f2cd2f7",
   "metadata": {},
   "source": [
    "We then split the data into a training and a testing set, making sure there are equal ratios of each disease classification in both sets."
   ]
  },
  {
   "cell_type": "code",
   "execution_count": 5,
   "id": "c550687f-1919-4e84-b91b-5a2e926bca14",
   "metadata": {},
   "outputs": [],
   "source": [
    "heart_split <- initial_split(heart_refactored, prop = 0.75, strata = disease)  \n",
    "heart_train <- training(heart_split)   \n",
    "heart_test <- testing(heart_split)"
   ]
  },
  {
   "cell_type": "code",
   "execution_count": 6,
   "id": "ffd26710-af75-4732-beba-3ccc1e0701a6",
   "metadata": {},
   "outputs": [
    {
     "data": {
      "text/html": [
       "<table class=\"dataframe\">\n",
       "<caption>A tibble: 5 × 2</caption>\n",
       "<thead>\n",
       "\t<tr><th scope=col>disease</th><th scope=col>count</th></tr>\n",
       "\t<tr><th scope=col>&lt;fct&gt;</th><th scope=col>&lt;int&gt;</th></tr>\n",
       "</thead>\n",
       "<tbody>\n",
       "\t<tr><td>none    </td><td>124</td></tr>\n",
       "\t<tr><td>mild    </td><td> 41</td></tr>\n",
       "\t<tr><td>moderate</td><td> 26</td></tr>\n",
       "\t<tr><td>severe  </td><td> 27</td></tr>\n",
       "\t<tr><td>critical</td><td>  8</td></tr>\n",
       "</tbody>\n",
       "</table>\n"
      ],
      "text/latex": [
       "A tibble: 5 × 2\n",
       "\\begin{tabular}{ll}\n",
       " disease & count\\\\\n",
       " <fct> & <int>\\\\\n",
       "\\hline\n",
       "\t none     & 124\\\\\n",
       "\t mild     &  41\\\\\n",
       "\t moderate &  26\\\\\n",
       "\t severe   &  27\\\\\n",
       "\t critical &   8\\\\\n",
       "\\end{tabular}\n"
      ],
      "text/markdown": [
       "\n",
       "A tibble: 5 × 2\n",
       "\n",
       "| disease &lt;fct&gt; | count &lt;int&gt; |\n",
       "|---|---|\n",
       "| none     | 124 |\n",
       "| mild     |  41 |\n",
       "| moderate |  26 |\n",
       "| severe   |  27 |\n",
       "| critical |   8 |\n",
       "\n"
      ],
      "text/plain": [
       "  disease  count\n",
       "1 none     124  \n",
       "2 mild      41  \n",
       "3 moderate  26  \n",
       "4 severe    27  \n",
       "5 critical   8  "
      ]
     },
     "metadata": {},
     "output_type": "display_data"
    }
   ],
   "source": [
    "# Summary of number of rows in each class\n",
    "heart_train_summary <- heart_train |>\n",
    "group_by(disease) |>\n",
    "summarize(count = n())\n",
    "heart_train_summary"
   ]
  },
  {
   "cell_type": "code",
   "execution_count": null,
   "id": "9c195647-cae5-4d18-b8cb-41ec8f50d87d",
   "metadata": {},
   "outputs": [],
   "source": []
  },
  {
   "cell_type": "markdown",
   "id": "57d84195-71af-4eaf-a521-34340d0bb54a",
   "metadata": {},
   "source": [
    "## Methods\n",
    "\n",
    "\n",
    "To conduct the data analysis for predicting the diagnosis of heart disease based on age, trestbps, cholesterol, fasting blood sugar\n",
    "we need to preprocess the data,split the training and testing sets, the create a visualization to effectively communicate our findings.\n",
    "\n",
    "Data Preprocessing:\n",
    "- we need to filter for the Cleveland area only\n",
    "- select the predictors we want to use\n",
    "- deal with any N/A in the dataset\n",
    "\n",
    "Split the dataset into training and testing sets.\n",
    "- choose whether to use classification or regression\n",
    "- Train models on the training set and evaluate their performance\n",
    "- use appropriate metrics like accuracy, precision, and recall\n",
    "\n",
    "Visualize the results we find \n",
    "- create a plot using the appropriate type of graph\n",
    "- showcase the trends"
   ]
  },
  {
   "cell_type": "markdown",
   "id": "285f577c-5d29-467d-b2b3-be624a6a73da",
   "metadata": {},
   "source": [
    "## Expected outcomes and significance\n",
    "Based on the outlined methods, we expect to find predictive models capable of accurately diagnosing heart disease based on patient attributes like age, blood pressure, cholesterol, and fasting blood sugar. Such findings could lead to improved early detection and treatment, potentially reducing the burden of heart disease globally. Future questions may explore the effectiveness of these models across different demographics, as well as their integration into clinical practice for better patient outcomes."
   ]
  }
 ],
 "metadata": {
  "kernelspec": {
   "display_name": "R",
   "language": "R",
   "name": "ir"
  },
  "language_info": {
   "codemirror_mode": "r",
   "file_extension": ".r",
   "mimetype": "text/x-r-source",
   "name": "R",
   "pygments_lexer": "r",
   "version": "4.3.1"
  }
 },
 "nbformat": 4,
 "nbformat_minor": 5
}
