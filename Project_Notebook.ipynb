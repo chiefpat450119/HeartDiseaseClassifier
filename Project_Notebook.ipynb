{
 "cells": [
  {
   "cell_type": "markdown",
   "id": "f28f39ac",
   "metadata": {},
   "source": [
    "# KNN Classification-based Prediction of Heart Disease Diagnoses"
   ]
  },
  {
   "cell_type": "markdown",
   "id": "5c211a7c",
   "metadata": {},
   "source": [
    "## Introduction\n",
    "Heart disease is a significant global health concern; it is the *leading cause of death globally*. To address this issue effectively, it is vital to develop accurate diagnostic tools. Fortunately, there are many patient attributes that could serve as indicators or possible warning signs for heart disease, which could accelerate the process of diagnosis and treatment. In this project, we will employ classification techniques to predict the diagnosis of heart disease based on a few of these attributes.\n",
    "\n",
    "**Research question:** Will a patient be diagnosed with heart disease, given their age, resting blood pressure, cholesterol levels, and maximum heart rate achieved, while considering sex differences?\n",
    "\n",
    "The dataset we will use to answer this question is the UCI Heart Disease dataset, which comprises multivariate numerical and categorical data on 14 patient attributes. These include age, sex, chest pain type, etc. along with the patient's diagnosis. For this project, we will focus on a subset of attributes: \n",
    "- age\n",
    "- resting blood pressure\n",
    "- serum cholesterol\n",
    "- maximum heart rate achieved\n",
    "\n",
    "to predict the diagnosis of heart disease. We will filter the dataset to include only records from the Cleveland location to ensure consistency and relevance. By the end of this project, we aim to develop accurate predictive models for diagnosing heart disease based on patient attributes."
   ]
  },
  {
   "cell_type": "markdown",
   "id": "84e2cdfe",
   "metadata": {},
   "source": [
    "## Exploratory data analysis"
   ]
  },
  {
   "cell_type": "code",
   "execution_count": null,
   "id": "dc089938",
   "metadata": {},
   "outputs": [],
   "source": [
    "# Run this cell before continuing\n",
    "library(tidyverse)\n",
    "library(repr)\n",
    "library(tidymodels)\n",
    "library(RColorBrewer)\n",
    "options(repr.matrix.max.rows = 5)\n",
    "set.seed(69)"
   ]
  },
  {
   "cell_type": "code",
   "execution_count": null,
   "id": "9949f7a9",
   "metadata": {},
   "outputs": [],
   "source": [
    "heart <- read_csv(\"https://raw.githubusercontent.com/chiefpat450119/dsci-project/main/data/heart_disease_uci.csv\")"
   ]
  },
  {
   "cell_type": "markdown",
   "id": "f5f8bad6",
   "metadata": {},
   "source": [
    "We then filter the data to look at **only one location (Cleveland)** to reduce the effect of possible confounding variables introduced by the local environment."
   ]
  },
  {
   "cell_type": "code",
   "execution_count": null,
   "id": "e4a9bfa1",
   "metadata": {},
   "outputs": [],
   "source": [
    "cleveland_heart <- heart |>\n",
    "filter(dataset == \"Cleveland\")"
   ]
  },
  {
   "cell_type": "markdown",
   "id": "774f4417",
   "metadata": {},
   "source": [
    "In order to use classification, we need to change the predicted variable (num) to a *factor* with more understandable levels. From the information presented in the dataset, num = 0 represents absence of disease, while num = 1, 2, 3, 4 represent stages of heart disease. The refactoring will be done based on the following interpretation:\n",
    "- 0 = \"absent\"\n",
    "- 1 = \"mild\"\n",
    "- 2 = \"moderate\"\n",
    "- 3 = \"severe\"\n",
    "- 4 = \"critical\""
   ]
  },
  {
   "cell_type": "code",
   "execution_count": null,
   "id": "1bf7c8c3",
   "metadata": {},
   "outputs": [],
   "source": [
    "heart_refactored <- cleveland_heart |>\n",
    "mutate(disease = as_factor(num)) |>\n",
    "mutate(disease = fct_recode(disease, \"absent\" = \"0\", \"mild\" = \"1\", \"moderate\" = \"2\", \"severe\" = \"3\", \"critical\" = \"4\"))\n",
    "heart_refactored"
   ]
  },
  {
   "cell_type": "markdown",
   "id": "86d77d12-8750-40ac-92a6-c5e231b9881f",
   "metadata": {},
   "source": [
    "<p style=\"text-align:center;\"><strong>TABLE 1- Transformed Cleveland Heart Disease Dataset: 'Disease' severity recoded into categorical levels for easier interpretation</strong></p>\n"
   ]
  },
  {
   "cell_type": "markdown",
   "id": "742d8b88",
   "metadata": {},
   "source": [
    "The data is already in a tidy format. We now split the data into a training and a testing set, making sure there are equal ratios of each disease classification in both sets. Let's take a look at how many cases are in each disease class, and then break it down by sex."
   ]
  },
  {
   "cell_type": "code",
   "execution_count": null,
   "id": "947b214e",
   "metadata": {},
   "outputs": [],
   "source": [
    "heart_split <- initial_split(heart_refactored, prop = 0.75, strata = disease)  \n",
    "heart_train <- training(heart_split)   \n",
    "heart_test <- testing(heart_split)"
   ]
  },
  {
   "cell_type": "code",
   "execution_count": null,
   "id": "775a90e1-bbd0-40cb-ab50-af7161ad582c",
   "metadata": {},
   "outputs": [],
   "source": [
    "heart_train_summary <- heart_train |>\n",
    "group_by(disease) |>\n",
    "summarize(count = n())\n",
    "heart_train_summary"
   ]
  },
  {
   "cell_type": "markdown",
   "id": "81994cc9-93be-4553-96b5-42f38d8a41e9",
   "metadata": {},
   "source": [
    "<p style=\"text-align:center;\"><strong>TABLE 2- Heart Disease Severity Summary: Distribution of heart disease cases across severity levels in the training dataset</strong></p>\n"
   ]
  },
  {
   "cell_type": "code",
   "execution_count": null,
   "id": "bdb5c75b-dda3-4825-a253-34775fd5087f",
   "metadata": {},
   "outputs": [],
   "source": [
    "options(repr.matrix.max.rows = 10)\n",
    "heart_train_split <- heart_train |>\n",
    "group_by(disease, sex) |>\n",
    "summarize(count = n())\n",
    "heart_train_split"
   ]
  },
  {
   "cell_type": "markdown",
   "id": "43deedb6-24c6-4d81-9377-b5991a35aaec",
   "metadata": {},
   "source": [
    "<p style=\"text-align:center;\"><strong>TABLE 3- Heart Disease Distribution by Severity and Gender: Summary of heart disease cases categorized by severity levels and gender from the training dataset </strong></p>\n"
   ]
  },
  {
   "cell_type": "markdown",
   "id": "1ea87f7d",
   "metadata": {},
   "source": [
    "There is a difference in the distribution of cases between male and female patients. There is a **significantly greater proportion** of patients in the disease classes for male patients. This will need to be kept in mind for our analysis. \n",
    "\n",
    "Some disease classes have **very few observations,** especially for female patients. This will make it hard to train a useful classification model. Thus, let's **combine all the disease classes into one**:"
   ]
  },
  {
   "cell_type": "code",
   "execution_count": null,
   "id": "05455c33",
   "metadata": {},
   "outputs": [],
   "source": [
    "options(repr.matrix.max.rows = 5)\n",
    "heart_train <- mutate(heart_train, disease = case_when(disease == \"absent\" ~ \"absent\", TRUE ~ \"present\"))\n",
    "heart_test <- mutate(heart_test, disease = case_when(disease == \"absent\" ~ \"absent\", TRUE ~ \"present\"))\n",
    "heart_train"
   ]
  },
  {
   "cell_type": "markdown",
   "id": "ab194dca-f22b-4bcd-b8e6-c366f7a13761",
   "metadata": {},
   "source": [
    "<p style=\"text-align:center;\"><strong>TABLE 4- Modified Heart Disease Training Dataset: Updated dataset where the 'disease' column has been recategorized as 'absent' or 'present' for ease of interpretation</strong></p>\n"
   ]
  },
  {
   "cell_type": "markdown",
   "id": "4cff90fb",
   "metadata": {},
   "source": [
    "Let's see how many missing values there are for each predictor."
   ]
  },
  {
   "cell_type": "code",
   "execution_count": null,
   "id": "d302feb2",
   "metadata": {},
   "outputs": [],
   "source": [
    "missing <- enframe(colSums(is.na(heart_train))) |>\n",
    "pivot_wider(names_from = \"name\", values_from = \"value\")\n",
    "missing"
   ]
  },
  {
   "cell_type": "markdown",
   "id": "ae6d7bee-9f47-4518-9b49-78fe51bd6a99",
   "metadata": {},
   "source": [
    "<p style=\"text-align:center;\"><strong>TABLE 5- Missing Data Summary: Distribution of missing values across columns in the heart_train dataset</strong></p>\n"
   ]
  },
  {
   "cell_type": "markdown",
   "id": "ea1b987e",
   "metadata": {},
   "source": [
    "### Selected predictors\n",
    "- Age\n",
    "- Resting blood pressure (trestbps)\n",
    "- Serum cholesterol (chol)\n",
    "- Maximum heart rate achieved (thalch)"
   ]
  },
  {
   "cell_type": "code",
   "execution_count": null,
   "id": "95a507bb",
   "metadata": {
    "editable": true,
    "slideshow": {
     "slide_type": ""
    },
    "tags": []
   },
   "outputs": [],
   "source": [
    "# Let's look at how two of predictor variables correlate with heart disease.\n",
    "options(repr.plot.width = 10, repr.plot.height = 7)\n",
    "heart_age_bp_plot <- heart_train |>\n",
    "  ggplot(aes(x = age, y = trestbps, color = disease)) +\n",
    "  geom_point(alpha = 0.6) + \n",
    "  labs(x = \"Age (years)\", y = \"Resting Blood Pressure (mmHg)\", color = \"Disease Diagnosis\") +\n",
    "  ggtitle(\"Figure 1: Disease diagnosis based on Resting Blood Pressure & Age\") +\n",
    "  theme(\n",
    "    plot.title = element_text(size = 16),  # Adjust title size\n",
    "    axis.title = element_text(size = 14),  # Adjust axis label size\n",
    "    legend.title = element_text(size = 14) # Adjust legend title size\n",
    "  ) +\n",
    "  facet_grid(cols = (vars(sex)))\n",
    "\n",
    "heart_age_bp_plot"
   ]
  },
  {
   "cell_type": "code",
   "execution_count": null,
   "id": "0426cef7-0483-427e-8173-32f9dcc76569",
   "metadata": {},
   "outputs": [],
   "source": [
    "# Now the other two predictor variables\n",
    "options(repr.plot.width = 10, repr.plot.height = 7)\n",
    "heart_chol_hr_plot <- ggplot(heart_train, aes(x = chol, y = thalch, color = disease)) + \n",
    "  geom_point(alpha = 0.6) + \n",
    "  labs(x = \"Cholesterol Level (mg/dL)\",  # Including unit\n",
    "       y = \"Maximum Heart Rate (bpm)\", \n",
    "       color = \"Disease diagnosis\") + \n",
    "  ggtitle(\"Figure 2: Disease diagnosis based on Maximum Heart Rate & Cholesterol Level\") +\n",
    "  theme(\n",
    "    plot.title = element_text(size = 16),  # Adjust title size\n",
    "    axis.title = element_text(size = 14),  # Adjust axis label size\n",
    "    legend.title = element_text(size = 14) # Adjust legend title size\n",
    "  ) +\n",
    "  facet_grid(cols = (vars(sex)))\n",
    "heart_chol_hr_plot"
   ]
  },
  {
   "cell_type": "markdown",
   "id": "e3570c9d-8137-418e-aee5-9c353f5534d4",
   "metadata": {},
   "source": [
    "# TODO\n",
    "- Add references to the table and graph numbers where necessary in methods and other sections"
   ]
  },
  {
   "cell_type": "markdown",
   "id": "4e15ddf0",
   "metadata": {},
   "source": [
    "# Methods\n",
    "To build a model for predicting the diagnosis of heart disease, we will follow the outlined approach.\n",
    "\n",
    "In the data preprocessing phase, we will focus on filtering the dataset to include only observations from the Cleveland area, aiming to reduce potential confounding variables introduced by regional differences. We will then split the data into training and testing sets. The disease classes will be combined into one because some of the original classes had too few observations to use classification effectively. **need reference** \n",
    "Then, we will select the following predictors: age, resting blood pressure, cholesterol, and maximum heart rate.\n",
    "These were chosen because they are numerical variables, which are much more useful than the other categorical variables for KNN classification, and they also do not have any missing data. **need reference** \n",
    "\n",
    "For model fitting and evaluation, we will split the training and testing sets both into male and female sets, due to the notable sex differences in diagnoses and predictor variables (see graphs above **add reference**). We will be training a K-nearest neighbours classification model, so we will first need to use a recipe to scale and center the data. The model will be trained on the training set, using cross-validation to choose the optimal value of K, then evaluated on the testing set using accuracy, precision, and recall. Recall will be prioritized because false negative predictions (classifying disease \"present\" as \"absent\") are more costly. This evaluation process will be conducted separately for male and female categories to account for sex-specific variations.\n",
    "\n",
    "We will visualize our findings by creating four scatter plots with the **training data**, each representing a unique combination of variables. For each sex, we will plot blood pressure against age and maximum heart rate against cholesterol, colouring points by the patient's predicted diagnosis. The plot background will be coloured according to the predicted class at each point. This can be done for several values of K during the cross-validation to assess under- or over-fitting. These scatter plots will serve to identify any discernible patterns or correlations between the selected variables and heart disease diagnosis, facilitating the interpretation of our predictive models.  \n",
    "\n",
    "We will also visualize the accuracy, precision, and recall when the model is evaluated on the **test data** using bar charts, along with bar charts visualizing the confusion matrix (true positives, false positives, etc.) for each sex.legend"
   ]
  },
  {
   "cell_type": "markdown",
   "id": "e265246f-5e4e-46b1-a69f-9c960b9a16c2",
   "metadata": {},
   "source": [
    "### Instructions for methods and results\n",
    "describe in written English the methods you used to perform your analysis from beginning to end that narrates the code the does the analysis.\n",
    "\n",
    "your report should include code which:\n",
    "\n",
    "loads data from the original source on the web, wrangles and cleans the data from it's original (downloaded) format to the format necessary for the planned analysis, performs a summary of the data set that is relevant for exploratory data analysis related to the planned analysis, creates a visualization of the dataset that is relevant for exploratory data analysis related to the planned analysis, performs the data analysis, creates a visualization of the analysis\n",
    "\n",
    "note: all tables and figure should have a figure/table number and a legend"
   ]
  },
  {
   "cell_type": "markdown",
   "id": "703eea7f",
   "metadata": {},
   "source": [
    "## Expected outcomes and significance\n",
    "Based on the outlined methods, we expect to find predictive models capable of accurately diagnosing heart disease based on patient attributes like age, blood pressure, cholesterol, and maximum heart rate achieved. Such findings could lead to improved early detection and treatment, potentially reducing the burden of heart disease globally. Future questions may explore the effectiveness of these models across different demographics, as well as their integration into clinical practice for better patient outcomes."
   ]
  },
  {
   "cell_type": "markdown",
   "id": "1904a459",
   "metadata": {
    "editable": true,
    "slideshow": {
     "slide_type": ""
    },
    "tags": []
   },
   "source": [
    "## Data Processing and Analysis\n",
    "We already have training and testing datasets from just the Cleveland location with the disease classes combined. Let's continue by selecting only the required columns and dividing both sets into male and female."
   ]
  },
  {
   "cell_type": "code",
   "execution_count": null,
   "id": "1129e0ec",
   "metadata": {},
   "outputs": [],
   "source": [
    "# Select only columns we are using\n",
    "heart_train <- select(heart_train, age, sex, trestbps, chol, thalch, disease)\n",
    "heart_test <- select(heart_test, age, sex, trestbps, chol, thalch, disease)\n",
    "# Divide both datasets into male and female\n",
    "m_train <- filter(heart_train, sex == \"Male\")\n",
    "f_train <- filter(heart_train, sex == \"Female\")\n",
    "m_test <- filter(heart_test, sex == \"Male\")\n",
    "f_test <- filter(heart_test, sex == \"Female\")\n",
    "m_train\n",
    "f_train"
   ]
  },
  {
   "cell_type": "code",
   "execution_count": null,
   "id": "7fffef0a-f7da-48c6-b514-31e9fb888b8c",
   "metadata": {},
   "outputs": [],
   "source": [
    "# Perform cross-validation to choose K for male\n",
    "knn_spec_tune <- nearest_neighbor(weight_func = \"rectangular\", neighbors = tune()) |>\n",
    "set_engine(\"kknn\") |>\n",
    "set_mode(\"classification\")\n",
    "m_recipe <- recipe(disease ~ ., data = m_train) |>\n",
    "step_scale(all_predictors()) |>\n",
    "step_center(all_predictors())\n",
    "\n",
    "# Create vfold and gridvals\n",
    "\n",
    "# Analyse performance (precision and recall?) Decide which is most important\n",
    "# Visualise predictions\n",
    "# Predict on the testing set using the optimal value of K for both male and female\n",
    "# Visualise metrics and results on the test data"
   ]
  },
  {
   "cell_type": "markdown",
   "id": "ab069460",
   "metadata": {},
   "source": [
    "## Discussion\n",
    "- summarize what you found\n",
    "- discuss whether this is what you expected to find\n",
    "- \n",
    "discuss what impact could such findings hae?\n",
    "- \r\n",
    "discuss what future questions could this lead to?"
   ]
  },
  {
   "cell_type": "markdown",
   "id": "14419b72-bf89-4e29-b6fe-6f0010f3c882",
   "metadata": {},
   "source": [
    "This is/isnt what we expected to find as previous literature found that .....\n"
   ]
  },
  {
   "cell_type": "markdown",
   "id": "3427d0c2",
   "metadata": {},
   "source": [
    "## References\n",
    "- At least 2 citations of literature relevant to the project (format is your choice, just be consistent across the references).\n",
    "- \n",
    "Make sure to cite the source of your data as well."
   ]
  },
  {
   "cell_type": "markdown",
   "id": "26aca07c-3429-4a7c-b687-f623021d248b",
   "metadata": {},
   "source": [
    "Yang, H., Luo, Y.-M., Ma, C.-Y., Zhang, T.-Y., Zhou, T., Ren, X.-L., … Lin, H. (2023). A gender specific risk assessment of   coronary heart disease based on Physical Examination Data. *Npj Digital Medicine, 6*(1). doi:10.1038/s41746-023-00887-8 "
   ]
  },
  {
   "cell_type": "markdown",
   "id": "3708d05c-28fc-498f-91c4-e8440242667e",
   "metadata": {},
   "source": [
    "Wilson, P. W., D’Agostino, R. B., Levy, D., Belanger, A. M., Silbershatz, H., & Kannel, W. B. (1998). Prediction of coronary heart disease using risk factor categories. *Circulation, 97*(18), 1837–1847. doi:10.1161/01.cir.97.18.1837 "
   ]
  },
  {
   "cell_type": "code",
   "execution_count": null,
   "id": "ddbd0ce1-54c3-4ef6-acbd-09dfc1e7d989",
   "metadata": {},
   "outputs": [],
   "source": []
  }
 ],
 "metadata": {
  "kernelspec": {
   "display_name": "R",
   "language": "R",
   "name": "ir"
  },
  "language_info": {
   "codemirror_mode": "r",
   "file_extension": ".r",
   "mimetype": "text/x-r-source",
   "name": "R",
   "pygments_lexer": "r",
   "version": "4.3.1"
  }
 },
 "nbformat": 4,
 "nbformat_minor": 5
}
